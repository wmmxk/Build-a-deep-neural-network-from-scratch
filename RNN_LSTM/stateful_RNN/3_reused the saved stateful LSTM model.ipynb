{
 "cells": [
  {
   "cell_type": "markdown",
   "metadata": {
    "collapsed": true
   },
   "source": [
    "This will loaded the saved model in 2_stateful LSTM model"
   ]
  },
  {
   "cell_type": "code",
   "execution_count": null,
   "metadata": {
    "collapsed": true
   },
   "outputs": [],
   "source": [
    "Trap2:\n",
    "    The placehoder should be redefined"
   ]
  },
  {
   "cell_type": "code",
   "execution_count": null,
   "metadata": {
    "collapsed": true
   },
   "outputs": [],
   "source": [
    "Trap1:\n",
    "    The model saver should be defined after you defined all the operations\n",
    "    saver = tf.train.Saver()"
   ]
  },
  {
   "cell_type": "code",
   "execution_count": 1,
   "metadata": {
    "collapsed": false
   },
   "outputs": [],
   "source": [
    "import tensorflow as tf\n",
    "import numpy as np\n",
    "state_size = 4\n",
    "input_len =5\n",
    "batch_size=3"
   ]
  },
  {
   "cell_type": "code",
   "execution_count": 2,
   "metadata": {
    "collapsed": true
   },
   "outputs": [],
   "source": [
    "class Agent:\n",
    "    def __init__(self):\n",
    "        self.rnn_cell = None\n",
    "        self.initialized = False\n",
    "        self.batch_size = None\n",
    "        self.output = None\n",
    "        self.rnn_state_t=None\n",
    "    def first(self,input_t):\n",
    "        self.batch_size = tf.unpack(tf.shape(input_t))[0]\n",
    "        with tf.variable_scope(\"rnn\"):\n",
    "            self.rnn_cell = tf.nn.rnn_cell.BasicLSTMCell(state_size,state_is_tuple=True)\n",
    "            self.rnn_state_t = self.rnn_cell.zero_state(self.batch_size,tf.float32)\n",
    "        output_= self.predict(input_t)\n",
    "        self.initialized = True\n",
    "        return output_\n",
    "    \n",
    "    def predict(self,input_t):\n",
    "\n",
    "        if self.initialized:\n",
    "            tf.get_variable_scope().reuse_variables()\n",
    "        with tf.variable_scope(\"rnn/RNN\"):\n",
    "\n",
    "            output_, current_state_t = self.rnn_cell(input_t, init_state_t)\n",
    "\n",
    "        return output_ ,current_state_t"
   ]
  },
  {
   "cell_type": "code",
   "execution_count": 3,
   "metadata": {
    "collapsed": false
   },
   "outputs": [],
   "source": [
    "# Define a testing agent\n",
    "\n",
    "\n",
    "input_t = tf.placeholder(tf.float32,(None,input_len))\n",
    "\n",
    "\n",
    "cell_state_t = tf.placeholder(tf.float32, [batch_size, state_size])\n",
    "hidden_state_t = tf.placeholder(tf.float32, [batch_size, state_size])\n",
    "init_state_t = tf.nn.rnn_cell.LSTMStateTuple(cell_state_t, hidden_state_t)\n",
    "\n",
    "\n",
    "agent_test = Agent()\n",
    "\n",
    "output1_t = agent_test.first(input_t)\n",
    "output2_t = agent_test.predict(input_t)\n",
    "\n",
    "sess = tf.Session()\n",
    "saver = tf.train.Saver()\n",
    "saver.restore(sess, './rnn_checkpoints/model.ckpt')\n",
    "\n"
   ]
  },
  {
   "cell_type": "code",
   "execution_count": 4,
   "metadata": {
    "collapsed": true
   },
   "outputs": [],
   "source": [
    "np.random.seed(0)\n",
    "input = np.random.rand(batch_size,input_len)\n",
    "_current_cell_state = np.load(\"./states_saved/cell_state.npy\")\n",
    "_current_hidden_state = np.load(\"./states_saved/hidden_state.npy\")\n",
    "\n",
    "#This is the ouput of the same input with the loaded cell_state\n",
    "output2_v1 = np.load(\"./states_saved/output2_v.npy\")"
   ]
  },
  {
   "cell_type": "code",
   "execution_count": 9,
   "metadata": {
    "collapsed": true
   },
   "outputs": [],
   "source": [
    "output2_v2 = sess.run(output1_t,{input_t: input, cell_state_t: _current_cell_state,\n",
    "        hidden_state_t: _current_hidden_state})\n",
    "\n",
    "# _current_cell_state, _current_hidden_state = output2_v4[2]"
   ]
  },
  {
   "cell_type": "code",
   "execution_count": 14,
   "metadata": {
    "collapsed": false,
    "scrolled": true
   },
   "outputs": [
    {
     "name": "stdout",
     "output_type": "stream",
     "text": [
      "everyting is good\n"
     ]
    }
   ],
   "source": [
    "if (output2_v2[0] == output2_v1).all():\n",
    "    print \"everyting is good\""
   ]
  }
 ],
 "metadata": {
  "kernelspec": {
   "display_name": "Python 2",
   "language": "python",
   "name": "python2"
  },
  "language_info": {
   "codemirror_mode": {
    "name": "ipython",
    "version": 2
   },
   "file_extension": ".py",
   "mimetype": "text/x-python",
   "name": "python",
   "nbconvert_exporter": "python",
   "pygments_lexer": "ipython2",
   "version": "2.7.13"
  }
 },
 "nbformat": 4,
 "nbformat_minor": 2
}
