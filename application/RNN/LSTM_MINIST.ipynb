{
 "cells": [
  {
   "cell_type": "code",
   "execution_count": 4,
   "metadata": {
    "collapsed": false
   },
   "outputs": [],
   "source": [
    "\n",
    "\n",
    "import tensorflow as tf\n",
    "from tensorflow.models.rnn import rnn, rnn_cell\n",
    "import numpy as np"
   ]
  },
  {
   "cell_type": "code",
   "execution_count": 7,
   "metadata": {
    "collapsed": false
   },
   "outputs": [
    {
     "name": "stdout",
     "output_type": "stream",
     "text": [
      "/notebooks\n",
      "\n"
     ]
    }
   ],
   "source": [
    "import os\n",
    "print(os.getcwd()+\"\\n\")\n"
   ]
  },
  {
   "cell_type": "code",
   "execution_count": 9,
   "metadata": {
    "collapsed": false
   },
   "outputs": [
    {
     "name": "stdout",
     "output_type": "stream",
     "text": [
      "Successfully downloaded train-images-idx3-ubyte.gz 9912422 bytes.\n",
      "Extracting MNIST_data/train-images-idx3-ubyte.gz\n",
      "Successfully downloaded train-labels-idx1-ubyte.gz 28881 bytes.\n",
      "Extracting MNIST_data/train-labels-idx1-ubyte.gz\n",
      "Successfully downloaded t10k-images-idx3-ubyte.gz 1648877 bytes.\n",
      "Extracting MNIST_data/t10k-images-idx3-ubyte.gz\n",
      "Successfully downloaded t10k-labels-idx1-ubyte.gz 4542 bytes.\n",
      "Extracting MNIST_data/t10k-labels-idx1-ubyte.gz\n"
     ]
    }
   ],
   "source": [
    "from tensorflow.examples.tutorials.mnist import input_data\n",
    "mnist = input_data.read_data_sets(\"MNIST_data\", one_hot=True)"
   ]
  },
  {
   "cell_type": "code",
   "execution_count": 10,
   "metadata": {
    "collapsed": false
   },
   "outputs": [
    {
     "name": "stdout",
     "output_type": "stream",
     "text": [
      "Help on module tensorflow.examples.tutorials.mnist.input_data in tensorflow.examples.tutorials.mnist:\n",
      "\n",
      "NAME\n",
      "    tensorflow.examples.tutorials.mnist.input_data - Functions for downloading and reading MNIST data.\n",
      "\n",
      "FILE\n",
      "    /usr/local/lib/python2.7/dist-packages/tensorflow/examples/tutorials/mnist/input_data.py\n",
      "\n",
      "CLASSES\n",
      "    __builtin__.object\n",
      "        DataSet\n",
      "    \n",
      "    class DataSet(__builtin__.object)\n",
      "     |  Methods defined here:\n",
      "     |  \n",
      "     |  __init__(self, images, labels, fake_data=False, one_hot=False, dtype=tf.float32)\n",
      "     |      Construct a DataSet.\n",
      "     |      \n",
      "     |      one_hot arg is used only if fake_data is true.  `dtype` can be either\n",
      "     |      `uint8` to leave the input as `[0, 255]`, or `float32` to rescale into\n",
      "     |      `[0, 1]`.\n",
      "     |  \n",
      "     |  next_batch(self, batch_size, fake_data=False)\n",
      "     |      Return the next `batch_size` examples from this data set.\n",
      "     |  \n",
      "     |  ----------------------------------------------------------------------\n",
      "     |  Data descriptors defined here:\n",
      "     |  \n",
      "     |  __dict__\n",
      "     |      dictionary for instance variables (if defined)\n",
      "     |  \n",
      "     |  __weakref__\n",
      "     |      list of weak references to the object (if defined)\n",
      "     |  \n",
      "     |  epochs_completed\n",
      "     |  \n",
      "     |  images\n",
      "     |  \n",
      "     |  labels\n",
      "     |  \n",
      "     |  num_examples\n",
      "\n",
      "FUNCTIONS\n",
      "    dense_to_one_hot(labels_dense, num_classes=10)\n",
      "        Convert class labels from scalars to one-hot vectors.\n",
      "    \n",
      "    extract_images(filename)\n",
      "        Extract the images into a 4D uint8 numpy array [index, y, x, depth].\n",
      "    \n",
      "    extract_labels(filename, one_hot=False)\n",
      "        Extract the labels into a 1D uint8 numpy array [index].\n",
      "    \n",
      "    maybe_download(filename, work_directory)\n",
      "        Download the data from Yann's website, unless it's already here.\n",
      "    \n",
      "    read_data_sets(train_dir, fake_data=False, one_hot=False, dtype=tf.float32)\n",
      "\n",
      "DATA\n",
      "    SOURCE_URL = 'http://yann.lecun.com/exdb/mnist/'\n",
      "    absolute_import = _Feature((2, 5, 0, 'alpha', 1), (3, 0, 0, 'alpha', 0...\n",
      "    division = _Feature((2, 2, 0, 'alpha', 2), (3, 0, 0, 'alpha', 0), 8192...\n",
      "    print_function = _Feature((2, 6, 0, 'alpha', 2), (3, 0, 0, 'alpha', 0)...\n",
      "\n",
      "\n"
     ]
    }
   ],
   "source": [
    "help(input_data)"
   ]
  }
 ],
 "metadata": {
  "kernelspec": {
   "display_name": "Python [Root]",
   "language": "python",
   "name": "Python [Root]"
  },
  "language_info": {
   "codemirror_mode": {
    "name": "ipython",
    "version": 2
   },
   "file_extension": ".py",
   "mimetype": "text/x-python",
   "name": "python",
   "nbconvert_exporter": "python",
   "pygments_lexer": "ipython2",
   "version": "2.7.12"
  }
 },
 "nbformat": 4,
 "nbformat_minor": 0
}
