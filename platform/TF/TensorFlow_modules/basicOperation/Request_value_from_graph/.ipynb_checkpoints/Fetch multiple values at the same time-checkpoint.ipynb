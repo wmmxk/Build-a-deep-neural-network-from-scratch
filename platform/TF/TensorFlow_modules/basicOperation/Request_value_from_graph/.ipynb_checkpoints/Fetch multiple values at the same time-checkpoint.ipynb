{
 "cells": [
  {
   "cell_type": "code",
   "execution_count": null,
   "metadata": {
    "collapsed": true
   },
   "outputs": [],
   "source": [
    "# the three variables to fetch must be in a list: sess.run([v1,v2,v1_v2]) "
   ]
  },
  {
   "cell_type": "code",
   "execution_count": null,
   "metadata": {
    "collapsed": true
   },
   "outputs": [],
   "source": [
    "import tensorflow as tf"
   ]
  },
  {
   "cell_type": "code",
   "execution_count": null,
   "metadata": {
    "collapsed": true
   },
   "outputs": [],
   "source": [
    "v1 = tf.random_normal([3,1])\n",
    "v2 = tf.random_normal([3,1])\n",
    "\n",
    "v1_v2 = tf.multiply(v1,v2)\n",
    "\n",
    "sess = tf.InteractiveSession()\n",
    "sess.run(tf.initialize_all_variables())\n",
    "\n",
    "v1_v, v2_v, v1_v2_v = sess.run([v1,v2,v1_v2])\n",
    "print v1_v\n",
    "print v2_v\n",
    "print v1_v2_v"
   ]
  }
 ],
 "metadata": {
  "kernelspec": {
   "display_name": "Python 2",
   "language": "python",
   "name": "python2"
  },
  "language_info": {
   "codemirror_mode": {
    "name": "ipython",
    "version": 2
   },
   "file_extension": ".py",
   "mimetype": "text/x-python",
   "name": "python",
   "nbconvert_exporter": "python",
   "pygments_lexer": "ipython2",
   "version": "2.7.12"
  }
 },
 "nbformat": 4,
 "nbformat_minor": 0
}
