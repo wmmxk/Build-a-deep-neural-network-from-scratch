{
 "cells": [
  {
   "cell_type": "code",
   "execution_count": null,
   "metadata": {
    "collapsed": true
   },
   "outputs": [],
   "source": [
    "The gateway (placeholder) for should be defined again.\n",
    "tf 0.12.1 version"
   ]
  },
  {
   "cell_type": "code",
   "execution_count": 10,
   "metadata": {
    "collapsed": false
   },
   "outputs": [],
   "source": [
    "import tensorflow as tf\n",
    "import numpy as np\n",
    "state_size = 10\n",
    "input_len =5\n",
    "batch_size=3\n",
    "input = np.full((batch_size,input_len), 1.2)\n"
   ]
  },
  {
   "cell_type": "code",
   "execution_count": 19,
   "metadata": {
    "collapsed": true
   },
   "outputs": [],
   "source": [
    "class Agent:\n",
    "    def __init__(self):\n",
    "        self.rnn_cell = None\n",
    "        self.initialized = False\n",
    "        self.batch_size = None\n",
    "        self.output = None\n",
    "        self.rnn_state_t=None\n",
    "    def first(self,input_t):\n",
    "        self.batch_size = tf.unpack(tf.shape(input_t))[0]\n",
    "        with tf.variable_scope(\"rnn\"):\n",
    "            self.rnn_cell = tf.nn.rnn_cell.BasicLSTMCell(state_size)\n",
    "            self.rnn_state_t = self.rnn_cell.zero_state(self.batch_size,tf.float32)\n",
    "        output_= self.predict(input_t)\n",
    "        self.initialized = True\n",
    "        return output_\n",
    "    def predict(self,input_t):\n",
    "\n",
    "        if self.initialized:\n",
    "            tf.get_variable_scope().reuse_variables()\n",
    "        with tf.variable_scope(\"rnn/RNN\",reuse=True):\n",
    "            output_, self.rnn_state_t = self.rnn_cell(input_t, self.rnn_state_t)\n",
    "\n",
    "            self.output = output_\n",
    "            \n",
    "            zero_state = self.rnn_cell.zero_state(self.batch_size,tf.float32)\n",
    "            \n",
    "            tf.get_variable_scope().reuse_variables()\n",
    "            output_zero_state, self.rnn_state_t = \\\n",
    "                       self.rnn_cell(input_t, zero_state)\n",
    "        return output_ , output_zero_state"
   ]
  },
  {
   "cell_type": "code",
   "execution_count": 20,
   "metadata": {
    "collapsed": false
   },
   "outputs": [],
   "source": [
    "input_t = tf.placeholder(tf.float32,(None,input_len))\n",
    "# Define a testing agent\n",
    "\n",
    "agent2 = Agent()\n",
    "output3_t = agent2.first(input_t)\n",
    "\n",
    "saver = tf.train.Saver()\n",
    "sess = tf.Session()\n",
    "saver.restore(sess, './checkpoints/model.ckpt')\n"
   ]
  },
  {
   "cell_type": "code",
   "execution_count": 26,
   "metadata": {
    "collapsed": false
   },
   "outputs": [],
   "source": [
    "output3_v = sess.run(output3_t,{input_t: input})"
   ]
  },
  {
   "cell_type": "code",
   "execution_count": 27,
   "metadata": {
    "collapsed": false
   },
   "outputs": [
    {
     "data": {
      "text/plain": [
       "(array([[ 0.05176976, -0.09401996,  0.11417688, -0.10251397, -0.04254346,\n",
       "          0.14024873,  0.22409359,  0.10744734, -0.19361506,  0.4428536 ],\n",
       "        [ 0.05176976, -0.09401996,  0.11417688, -0.10251397, -0.04254346,\n",
       "          0.14024873,  0.22409359,  0.10744734, -0.19361506,  0.4428536 ],\n",
       "        [ 0.05176976, -0.09401996,  0.11417688, -0.10251397, -0.04254346,\n",
       "          0.14024873,  0.22409359,  0.10744734, -0.19361506,  0.4428536 ]], dtype=float32),\n",
       " array([[ 0.05176976, -0.09401996,  0.11417688, -0.10251397, -0.04254346,\n",
       "          0.14024873,  0.22409359,  0.10744734, -0.19361506,  0.4428536 ],\n",
       "        [ 0.05176976, -0.09401996,  0.11417688, -0.10251397, -0.04254346,\n",
       "          0.14024873,  0.22409359,  0.10744734, -0.19361506,  0.4428536 ],\n",
       "        [ 0.05176976, -0.09401996,  0.11417688, -0.10251397, -0.04254346,\n",
       "          0.14024873,  0.22409359,  0.10744734, -0.19361506,  0.4428536 ]], dtype=float32))"
      ]
     },
     "execution_count": 27,
     "metadata": {},
     "output_type": "execute_result"
    }
   ],
   "source": [
    "output3_v"
   ]
  },
  {
   "cell_type": "code",
   "execution_count": 24,
   "metadata": {
    "collapsed": false
   },
   "outputs": [
    {
     "data": {
      "text/plain": [
       "(array([[ 0.05176976, -0.09401996,  0.11417688, -0.10251397, -0.04254346,\n",
       "          0.14024873,  0.22409359,  0.10744734, -0.19361506,  0.4428536 ],\n",
       "        [ 0.05176976, -0.09401996,  0.11417688, -0.10251397, -0.04254346,\n",
       "          0.14024873,  0.22409359,  0.10744734, -0.19361506,  0.4428536 ],\n",
       "        [ 0.05176976, -0.09401996,  0.11417688, -0.10251397, -0.04254346,\n",
       "          0.14024873,  0.22409359,  0.10744734, -0.19361506,  0.4428536 ]], dtype=float32),\n",
       " array([[ 0.05176976, -0.09401996,  0.11417688, -0.10251397, -0.04254346,\n",
       "          0.14024873,  0.22409359,  0.10744734, -0.19361506,  0.4428536 ],\n",
       "        [ 0.05176976, -0.09401996,  0.11417688, -0.10251397, -0.04254346,\n",
       "          0.14024873,  0.22409359,  0.10744734, -0.19361506,  0.4428536 ],\n",
       "        [ 0.05176976, -0.09401996,  0.11417688, -0.10251397, -0.04254346,\n",
       "          0.14024873,  0.22409359,  0.10744734, -0.19361506,  0.4428536 ]], dtype=float32))"
      ]
     },
     "execution_count": 24,
     "metadata": {},
     "output_type": "execute_result"
    }
   ],
   "source": [
    "output3_v"
   ]
  }
 ],
 "metadata": {
  "kernelspec": {
   "display_name": "Python 2",
   "language": "python",
   "name": "python2"
  },
  "language_info": {
   "codemirror_mode": {
    "name": "ipython",
    "version": 2
   },
   "file_extension": ".py",
   "mimetype": "text/x-python",
   "name": "python",
   "nbconvert_exporter": "python",
   "pygments_lexer": "ipython2",
   "version": "2.7.13"
  }
 },
 "nbformat": 4,
 "nbformat_minor": 2
}
