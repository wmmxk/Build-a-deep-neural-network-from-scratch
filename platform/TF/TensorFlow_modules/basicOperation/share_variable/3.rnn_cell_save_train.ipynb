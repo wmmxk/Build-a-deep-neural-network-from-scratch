{
 "cells": [
  {
   "cell_type": "markdown",
   "metadata": {
    "collapsed": true
   },
   "source": [
    " This is to show sharing variables between training model and testing model\n",
    "When you first time predict on on input, the reuse flag is not set as True"
   ]
  },
  {
   "cell_type": "code",
   "execution_count": null,
   "metadata": {
    "collapsed": true
   },
   "outputs": [],
   "source": [
    "# You feed the same input twice with another input inbetween, the output2_v is the same.\n",
    "# But self.rnn_state_t is updated"
   ]
  },
  {
   "cell_type": "code",
   "execution_count": null,
   "metadata": {
    "collapsed": true
   },
   "outputs": [],
   "source": [
    "# The difference between output1_v and output2_v1 indicates the state is fed into the cell in next run"
   ]
  },
  {
   "cell_type": "code",
   "execution_count": 1,
   "metadata": {
    "collapsed": false
   },
   "outputs": [],
   "source": [
    "import tensorflow as tf\n",
    "import numpy as np\n",
    "state_size = 4\n",
    "input_len =5\n",
    "batch_size=3\n",
    "\n",
    "np.random.seed(0)\n",
    "input = np.random.rand(batch_size,input_len)"
   ]
  },
  {
   "cell_type": "markdown",
   "metadata": {
    "collapsed": false
   },
   "source": [
    "print help(agent.rnn_cell)"
   ]
  },
  {
   "cell_type": "code",
   "execution_count": 2,
   "metadata": {
    "collapsed": true
   },
   "outputs": [],
   "source": [
    "class Agent:\n",
    "    def __init__(self):\n",
    "        self.rnn_cell = None\n",
    "        self.initialized = False\n",
    "        self.batch_size = None\n",
    "        self.output = None\n",
    "        self.rnn_state_t=None\n",
    "    def first(self,input_t):\n",
    "        self.batch_size = tf.unpack(tf.shape(input_t))[0]\n",
    "        with tf.variable_scope(\"rnn\"):\n",
    "            self.rnn_cell = tf.nn.rnn_cell.BasicLSTMCell(state_size)\n",
    "            self.rnn_state_t = self.rnn_cell.zero_state(self.batch_size,tf.float32)\n",
    "        output_= self.predict(input_t)\n",
    "        self.initialized = True\n",
    "        return output_\n",
    "    def predict(self,input_t):\n",
    "\n",
    "        if self.initialized:\n",
    "            tf.get_variable_scope().reuse_variables()\n",
    "        with tf.variable_scope(\"rnn/RNN\"):\n",
    "            output_, self.rnn_state_t = self.rnn_cell(input_t, self.rnn_state_t)\n",
    "            \n",
    "            self.output = output_\n",
    "            \n",
    "            zero_state = self.rnn_cell.zero_state(self.batch_size,tf.float32)\n",
    "            \n",
    "            tf.get_variable_scope().reuse_variables()\n",
    "            output_zero_state, self.rnn_state_t = \\\n",
    "                       self.rnn_cell(input_t, zero_state)\n",
    "        return output_ , output_zero_state,self.rnn_state_t"
   ]
  },
  {
   "cell_type": "code",
   "execution_count": 3,
   "metadata": {
    "collapsed": false
   },
   "outputs": [],
   "source": [
    "input_t = tf.placeholder(tf.float32,(None,input_len))\n",
    "agent = Agent()\n",
    "\n",
    "\n",
    "output1_t = agent.first(input_t)\n",
    "\n",
    "output2_t = agent.predict(input_t)\n",
    "\n",
    "init_op = tf.global_variables_initializer()\n",
    "\n",
    "saver = tf.train.Saver()"
   ]
  },
  {
   "cell_type": "code",
   "execution_count": 4,
   "metadata": {
    "collapsed": false
   },
   "outputs": [],
   "source": [
    "sess = tf.Session()\n",
    "sess.run(init_op)\n",
    "output1_v,output2_v1 = sess.run([output1_t, output2_t],{input_t: input})\n",
    "\n",
    "save_path = saver.save(sess, './checkpoints/model.ckpt')"
   ]
  },
  {
   "cell_type": "code",
   "execution_count": 6,
   "metadata": {
    "collapsed": true
   },
   "outputs": [],
   "source": [
    "np.random.seed(5)\n",
    "input = np.random.rand(batch_size,input_len)\n",
    "output1_v2,output2_v2 = sess.run([output1_t, output2_t],{input_t: input})"
   ]
  },
  {
   "cell_type": "code",
   "execution_count": 7,
   "metadata": {
    "collapsed": false
   },
   "outputs": [],
   "source": [
    "np.random.seed(0)\n",
    "input = np.random.rand(batch_size,input_len)\n",
    "\n",
    "output1_v3,output2_v3 = sess.run([output1_t, output2_t],{input_t: input})"
   ]
  },
  {
   "cell_type": "markdown",
   "metadata": {
    "collapsed": false
   },
   "source": [
    "the 2nd output of output2_v is always the same because weights and LSTM state are the \n",
    "same"
   ]
  },
  {
   "cell_type": "code",
   "execution_count": 8,
   "metadata": {
    "collapsed": false
   },
   "outputs": [],
   "source": [
    "# Define a testing agent\n",
    "saver.restore(sess, './checkpoints/model.ckpt')\n",
    "agent2 = Agent()\n",
    "\n",
    "np.random.seed(0)\n",
    "input = np.random.rand(batch_size,input_len)\n",
    "output1_t = agent2.first(input_t)\n",
    "output1_v4 = sess.run(output1_t,{input_t: input})"
   ]
  },
  {
   "cell_type": "code",
   "execution_count": 9,
   "metadata": {
    "collapsed": false
   },
   "outputs": [],
   "source": [
    "output2_t = agent2.predict(input_t)\n",
    "output2_v4 = sess.run(output2_t,{input_t: input})"
   ]
  },
  {
   "cell_type": "code",
   "execution_count": 11,
   "metadata": {
    "collapsed": false,
    "scrolled": true
   },
   "outputs": [
    {
     "data": {
      "text/plain": [
       "(array([[ 0.12557819, -0.21726891,  0.03432992,  0.13052259],\n",
       "        [ 0.10165639, -0.17911628, -0.04106252,  0.10405156],\n",
       "        [ 0.09972538, -0.16623558, -0.04295185,  0.06981139]], dtype=float32),\n",
       " array([[ 0.12557819, -0.21726891,  0.03432992,  0.13052259],\n",
       "        [ 0.10165639, -0.17911628, -0.04106252,  0.10405156],\n",
       "        [ 0.09972538, -0.16623558, -0.04295185,  0.06981139]], dtype=float32),\n",
       " LSTMStateTuple(c=array([[ 0.27759275, -0.44109145,  0.06509627,  0.32561511],\n",
       "       [ 0.2418329 , -0.43308806, -0.07953393,  0.30602443],\n",
       "       [ 0.19626328, -0.41249555, -0.09082897,  0.17684354]], dtype=float32), h=array([[ 0.12557819, -0.21726891,  0.03432992,  0.13052259],\n",
       "       [ 0.10165639, -0.17911628, -0.04106252,  0.10405156],\n",
       "       [ 0.09972538, -0.16623558, -0.04295185,  0.06981139]], dtype=float32)))"
      ]
     },
     "execution_count": 11,
     "metadata": {},
     "output_type": "execute_result"
    }
   ],
   "source": [
    "output1_v"
   ]
  },
  {
   "cell_type": "code",
   "execution_count": 12,
   "metadata": {
    "collapsed": false,
    "scrolled": true
   },
   "outputs": [
    {
     "data": {
      "text/plain": [
       "(array([[ 0.08288618, -0.19653082,  0.02180025,  0.1282451 ],\n",
       "        [ 0.14793909, -0.21182616,  0.03850147,  0.11660092],\n",
       "        [ 0.09421232, -0.21413308,  0.12148271,  0.17725462]], dtype=float32),\n",
       " array([[ 0.08288618, -0.19653082,  0.02180025,  0.1282451 ],\n",
       "        [ 0.14793909, -0.21182616,  0.03850147,  0.11660092],\n",
       "        [ 0.09421232, -0.21413308,  0.12148271,  0.17725462]], dtype=float32),\n",
       " LSTMStateTuple(c=array([[ 0.19246048, -0.3571834 ,  0.05258356,  0.35043159],\n",
       "       [ 0.29359204, -0.43207297,  0.07273445,  0.25113156],\n",
       "       [ 0.24759644, -0.34904373,  0.2168427 ,  0.4540112 ]], dtype=float32), h=array([[ 0.08288618, -0.19653082,  0.02180025,  0.1282451 ],\n",
       "       [ 0.14793909, -0.21182616,  0.03850147,  0.11660092],\n",
       "       [ 0.09421232, -0.21413308,  0.12148271,  0.17725462]], dtype=float32)))"
      ]
     },
     "execution_count": 12,
     "metadata": {},
     "output_type": "execute_result"
    }
   ],
   "source": [
    "output1_v2"
   ]
  },
  {
   "cell_type": "code",
   "execution_count": 14,
   "metadata": {
    "collapsed": false
   },
   "outputs": [
    {
     "data": {
      "text/plain": [
       "(array([[ 0.12557819, -0.21726891,  0.03432992,  0.13052259],\n",
       "        [ 0.10165639, -0.17911628, -0.04106252,  0.10405156],\n",
       "        [ 0.09972538, -0.16623558, -0.04295185,  0.06981139]], dtype=float32),\n",
       " array([[ 0.12557819, -0.21726891,  0.03432992,  0.13052259],\n",
       "        [ 0.10165639, -0.17911628, -0.04106252,  0.10405156],\n",
       "        [ 0.09972538, -0.16623558, -0.04295185,  0.06981139]], dtype=float32),\n",
       " LSTMStateTuple(c=array([[ 0.27759275, -0.44109145,  0.06509627,  0.32561511],\n",
       "       [ 0.2418329 , -0.43308806, -0.07953393,  0.30602443],\n",
       "       [ 0.19626328, -0.41249555, -0.09082897,  0.17684354]], dtype=float32), h=array([[ 0.12557819, -0.21726891,  0.03432992,  0.13052259],\n",
       "       [ 0.10165639, -0.17911628, -0.04106252,  0.10405156],\n",
       "       [ 0.09972538, -0.16623558, -0.04295185,  0.06981139]], dtype=float32)))"
      ]
     },
     "execution_count": 14,
     "metadata": {},
     "output_type": "execute_result"
    }
   ],
   "source": [
    "output1_v3"
   ]
  },
  {
   "cell_type": "code",
   "execution_count": 15,
   "metadata": {
    "collapsed": false
   },
   "outputs": [
    {
     "data": {
      "text/plain": [
       "(array([[ 0.12557819, -0.21726891,  0.03432992,  0.13052259],\n",
       "        [ 0.10165639, -0.17911628, -0.04106252,  0.10405156],\n",
       "        [ 0.09972538, -0.16623558, -0.04295185,  0.06981139]], dtype=float32),\n",
       " array([[ 0.12557819, -0.21726891,  0.03432992,  0.13052259],\n",
       "        [ 0.10165639, -0.17911628, -0.04106252,  0.10405156],\n",
       "        [ 0.09972538, -0.16623558, -0.04295185,  0.06981139]], dtype=float32),\n",
       " LSTMStateTuple(c=array([[ 0.27759275, -0.44109145,  0.06509627,  0.32561511],\n",
       "       [ 0.2418329 , -0.43308806, -0.07953393,  0.30602443],\n",
       "       [ 0.19626328, -0.41249555, -0.09082897,  0.17684354]], dtype=float32), h=array([[ 0.12557819, -0.21726891,  0.03432992,  0.13052259],\n",
       "       [ 0.10165639, -0.17911628, -0.04106252,  0.10405156],\n",
       "       [ 0.09972538, -0.16623558, -0.04295185,  0.06981139]], dtype=float32)))"
      ]
     },
     "execution_count": 15,
     "metadata": {},
     "output_type": "execute_result"
    }
   ],
   "source": [
    "output1_v4"
   ]
  }
 ],
 "metadata": {
  "kernelspec": {
   "display_name": "Python 2",
   "language": "python",
   "name": "python2"
  },
  "language_info": {
   "codemirror_mode": {
    "name": "ipython",
    "version": 2
   },
   "file_extension": ".py",
   "mimetype": "text/x-python",
   "name": "python",
   "nbconvert_exporter": "python",
   "pygments_lexer": "ipython2",
   "version": "2.7.13"
  }
 },
 "nbformat": 4,
 "nbformat_minor": 2
}
