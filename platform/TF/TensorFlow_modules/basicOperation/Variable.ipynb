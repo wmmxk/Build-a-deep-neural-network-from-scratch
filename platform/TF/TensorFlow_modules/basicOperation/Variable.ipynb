{
 "cells": [
  {
   "cell_type": "code",
   "execution_count": 3,
   "metadata": {
    "collapsed": false,
    "scrolled": true
   },
   "outputs": [
    {
     "name": "stdout",
     "output_type": "stream",
     "text": [
      "WARNING:tensorflow:From <ipython-input-3-3ae895476844>:6 in <module>.: initialize_all_variables (from tensorflow.python.ops.variables) is deprecated and will be removed after 2017-03-02.\n",
      "Instructions for updating:\n",
      "Use `tf.global_variables_initializer` instead.\n",
      "[[ 0.  0.]\n",
      " [ 0.  0.]]\n",
      "[[ 0.49384543  1.55251122]\n",
      " [-0.33300442  0.64335078]]\n"
     ]
    }
   ],
   "source": [
    "import tensorflow as tf\n",
    "#if the variable is defined as a variable, it must have a name\n",
    "W = tf.Variable(tf.zeros((2,2)), name= 'weights')\n",
    "R = tf.Variable(tf.random_normal((2,2)), name = 'random_weights')\n",
    "with tf.Session() as sess:\n",
    "  sess.run(tf.initialize_all_variables())\n",
    "  print(sess.run(W))\n",
    "  print(sess.run(R))"
   ]
  },
  {
   "cell_type": "code",
   "execution_count": 5,
   "metadata": {
    "collapsed": false
   },
   "outputs": [
    {
     "name": "stdout",
     "output_type": "stream",
     "text": [
      "WARNING:tensorflow:From <ipython-input-5-1ee01b7931ef>:5 in <module>.: initialize_all_variables (from tensorflow.python.ops.variables) is deprecated and will be removed after 2017-03-02.\n",
      "Instructions for updating:\n",
      "Use `tf.global_variables_initializer` instead.\n",
      "0\n",
      "1\n",
      "2\n",
      "3\n"
     ]
    }
   ],
   "source": [
    "stat = tf.Variable(0, name = 'counter')\n",
    "new_value = tf.add(stat, tf.constant(1))\n",
    "update = tf.assign(stat, new_value)\n",
    "with tf.Session() as sess:\n",
    "   sess.run(tf.initialize_all_variables())\n",
    "   print(sess.run(stat)) #0\n",
    "   for _ in range(3):\n",
    "      sess.run(update)\n",
    "      print(sess.run(stat))"
   ]
  }
 ],
 "metadata": {
  "kernelspec": {
   "display_name": "Python 2",
   "language": "python",
   "name": "python2"
  },
  "language_info": {
   "codemirror_mode": {
    "name": "ipython",
    "version": 2
   },
   "file_extension": ".py",
   "mimetype": "text/x-python",
   "name": "python",
   "nbconvert_exporter": "python",
   "pygments_lexer": "ipython2",
   "version": "2.7.13"
  }
 },
 "nbformat": 4,
 "nbformat_minor": 2
}
