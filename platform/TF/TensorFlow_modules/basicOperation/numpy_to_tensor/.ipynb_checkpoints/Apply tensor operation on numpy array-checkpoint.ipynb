{
 "cells": [
  {
   "cell_type": "code",
   "execution_count": null,
   "metadata": {
    "collapsed": true
   },
   "outputs": [],
   "source": [
    "no need to use a placehoder and pass the numpy to the graph"
   ]
  },
  {
   "cell_type": "code",
   "execution_count": 1,
   "metadata": {
    "collapsed": true
   },
   "outputs": [],
   "source": [
    "import tensorflow as tf\n",
    "import numpy as np"
   ]
  },
  {
   "cell_type": "code",
   "execution_count": 3,
   "metadata": {
    "collapsed": false
   },
   "outputs": [
    {
     "name": "stdout",
     "output_type": "stream",
     "text": [
      "[2, 5]\n",
      "[[1 2 3 5 6]\n",
      " [3 4 5 7 8]]\n",
      "[[1]\n",
      " [3]]\n"
     ]
    }
   ],
   "source": [
    "A = np.array([[1,2,3],[3,4,5]])\n",
    "B = np.array([[5,6],[7,8]])\n",
    "\n",
    "C = tf.concat(1, (A,B))\n",
    "\n",
    "D = tf.slice(A,[0,0],[-1,1])\n",
    "\n",
    "sess = tf.Session()\n",
    "\n",
    "print C.get_shape().as_list()\n",
    "print sess.run(C)\n",
    "print sess.run(D)"
   ]
  }
 ],
 "metadata": {
  "kernelspec": {
   "display_name": "Python 2",
   "language": "python",
   "name": "python2"
  },
  "language_info": {
   "codemirror_mode": {
    "name": "ipython",
    "version": 2
   },
   "file_extension": ".py",
   "mimetype": "text/x-python",
   "name": "python",
   "nbconvert_exporter": "python",
   "pygments_lexer": "ipython2",
   "version": "2.7.13"
  }
 },
 "nbformat": 4,
 "nbformat_minor": 2
}
