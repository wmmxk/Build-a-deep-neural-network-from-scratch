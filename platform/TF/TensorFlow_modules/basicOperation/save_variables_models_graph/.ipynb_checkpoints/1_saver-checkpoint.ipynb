{
 "cells": [
  {
   "cell_type": "code",
   "execution_count": 1,
   "metadata": {
    "collapsed": true
   },
   "outputs": [],
   "source": [
    "# what saver save in each checkpoint: three files (.data, .index, .meta) and a file named \"checkpoint\" is saved\n",
    "\n",
    "# when resume a trainer, you need to create recreate the variables "
   ]
  },
  {
   "cell_type": "code",
   "execution_count": 1,
   "metadata": {
    "collapsed": false
   },
   "outputs": [],
   "source": [
    "import tensorflow as tf\n",
    "import numpy as np\n",
    "import os\n",
    "\n",
    "\n",
    "x = tf.placeholder(tf.float32, [16, 3],name = \"input\")  # input\n",
    "y = tf.placeholder(tf.float32, [16, 1],name = \"output\")   # output\n",
    "\n",
    "w = tf.Variable(tf.zeros([3, 1]), dtype=tf.float32,name =\"weight\")\n",
    "global_step = tf.Variable(0,trainable = False,name=\"global_step\")\n",
    "#global_step = tf.Variable(0, trainable=False)\n",
    "\n",
    "res = tf.matmul(x, w,name=\"multiplication_op\")\n",
    "loss = tf.reduce_sum(tf.square(res - y),name=\"loss\")\n",
    "\n",
    "train_op = tf.train.GradientDescentOptimizer(0.01).minimize(loss,global_step = global_step,name= \"train_op\")"
   ]
  },
  {
   "cell_type": "code",
   "execution_count": 2,
   "metadata": {
    "collapsed": true
   },
   "outputs": [],
   "source": [
    "saver = tf.train.Saver(max_to_keep=2, keep_checkpoint_every_n_hours=1)"
   ]
  },
  {
   "cell_type": "code",
   "execution_count": 3,
   "metadata": {
    "collapsed": false
   },
   "outputs": [
    {
     "name": "stdout",
     "output_type": "stream",
     "text": [
      "[u'weight:0', u'global_step:0']\n"
     ]
    }
   ],
   "source": [
    "print [v.name for v in tf.global_variables()]"
   ]
  },
  {
   "cell_type": "code",
   "execution_count": 4,
   "metadata": {
    "collapsed": false
   },
   "outputs": [
    {
     "name": "stdout",
     "output_type": "stream",
     "text": [
      "1\n",
      "[[-0.05271614]\n",
      " [ 0.08411783]\n",
      " [ 0.1074054 ]]\n",
      "2\n",
      "[[ 0.02120618]\n",
      " [ 0.15264855]\n",
      " [ 0.01487188]]\n"
     ]
    }
   ],
   "source": [
    "# Start a session\n",
    "max_steps = 2\n",
    "with tf.Session() as sess:\n",
    "    # initialize the variables\n",
    "    sess.run(tf.global_variables_initializer())\n",
    "\n",
    "    for step in range(max_steps):\n",
    "        feed_dict = {x: np.random.randn(16, 3), y: np.random.randn(16, 1)}  # dummy input\n",
    "        _, loss_value = sess.run([train_op, loss], feed_dict=feed_dict)\n",
    "\n",
    "        \n",
    "        saver.save(sess, \"./model/\", global_step=global_step)\n",
    "        print global_step.eval()\n",
    "        print w.eval()"
   ]
  },
  {
   "cell_type": "code",
   "execution_count": 5,
   "metadata": {
    "collapsed": true
   },
   "outputs": [],
   "source": [
    "graph = tf.get_default_graph()\n",
    "output_dir = './model'\n",
    "ckpt = tf.train.get_checkpoint_state(output_dir)\n",
    "\n",
    "sess2 = tf.InteractiveSession()\n",
    "saver = tf.train.import_meta_graph(ckpt.model_checkpoint_path+'.meta')\n",
    "saver.restore(sess2,ckpt.model_checkpoint_path)\n"
   ]
  },
  {
   "cell_type": "code",
   "execution_count": 6,
   "metadata": {
    "collapsed": true
   },
   "outputs": [],
   "source": [
    "w_r = graph.get_tensor_by_name(\"weight:0\")"
   ]
  },
  {
   "cell_type": "code",
   "execution_count": 13,
   "metadata": {
    "collapsed": false
   },
   "outputs": [
    {
     "name": "stdout",
     "output_type": "stream",
     "text": [
      "[[ 0.02120618]\n",
      " [ 0.15264855]\n",
      " [ 0.01487188]]\n"
     ]
    }
   ],
   "source": [
    "print w_r.eval()"
   ]
  }
 ],
 "metadata": {
  "kernelspec": {
   "display_name": "Python 2",
   "language": "python",
   "name": "python2"
  },
  "language_info": {
   "codemirror_mode": {
    "name": "ipython",
    "version": 2
   },
   "file_extension": ".py",
   "mimetype": "text/x-python",
   "name": "python",
   "nbconvert_exporter": "python",
   "pygments_lexer": "ipython2",
   "version": "2.7.13"
  }
 },
 "nbformat": 4,
 "nbformat_minor": 2
}
