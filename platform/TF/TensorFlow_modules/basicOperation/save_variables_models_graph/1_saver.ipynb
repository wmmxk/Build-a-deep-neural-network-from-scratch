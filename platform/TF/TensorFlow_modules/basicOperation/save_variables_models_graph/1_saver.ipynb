{
 "cells": [
  {
   "cell_type": "code",
   "execution_count": 1,
   "metadata": {
    "collapsed": true
   },
   "outputs": [],
   "source": [
    "# what saver save in each checkpoint: three files (.data, .index, .meta) and a file named \"checkpoint\" is saved\n",
    "\n",
    "# when resume a trainer, you need to create recreate the variables "
   ]
  },
  {
   "cell_type": "code",
   "execution_count": 1,
   "metadata": {
    "collapsed": false
   },
   "outputs": [],
   "source": [
    "import tensorflow as tf\n",
    "import numpy as np\n",
    "import os\n",
    "\n",
    "\n",
    "x = tf.placeholder(tf.float32, [16, 3],name = \"input\")  # input\n",
    "y = tf.placeholder(tf.float32, [16, 1],name = \"output\")   # output\n",
    "\n",
    "w = tf.Variable(tf.zeros([3, 1]), dtype=tf.float32,name =\"weight\")\n",
    "global_step = tf.Variable(0,trainable = False,name=\"global_step\")\n",
    "#global_step = tf.Variable(0, trainable=False)\n",
    "\n",
    "res = tf.matmul(x, w,name=\"multiplication_op\")\n",
    "loss = tf.reduce_sum(tf.square(res - y),name=\"loss\")\n",
    "\n",
    "train_op = tf.train.GradientDescentOptimizer(0.01).minimize(loss,global_step = global_step,name= \"train_op\")"
   ]
  },
  {
   "cell_type": "code",
   "execution_count": 2,
   "metadata": {
    "collapsed": true
   },
   "outputs": [],
   "source": [
    "saver = tf.train.Saver(max_to_keep=2, keep_checkpoint_every_n_hours=1)"
   ]
  },
  {
   "cell_type": "code",
   "execution_count": 3,
   "metadata": {
    "collapsed": false
   },
   "outputs": [
    {
     "name": "stdout",
     "output_type": "stream",
     "text": [
      "[u'weight:0', u'global_step:0']\n"
     ]
    }
   ],
   "source": [
    "print [v.name for v in tf.global_variables()]"
   ]
  },
  {
   "cell_type": "code",
   "execution_count": 4,
   "metadata": {
    "collapsed": false
   },
   "outputs": [
    {
     "name": "stdout",
     "output_type": "stream",
     "text": [
      "1\n",
      "[[ 0.04161121]\n",
      " [ 0.02138496]\n",
      " [-0.04474959]]\n",
      "2\n",
      "[[ 0.01409703]\n",
      " [ 0.0305276 ]\n",
      " [-0.17594406]]\n"
     ]
    }
   ],
   "source": [
    "# Start a session\n",
    "max_steps = 2\n",
    "with tf.Session() as sess:\n",
    "    # initialize the variables\n",
    "    sess.run(tf.global_variables_initializer())\n",
    "\n",
    "    for step in range(max_steps):\n",
    "        feed_dict = {x: np.random.randn(16, 3), y: np.random.randn(16, 1)}  # dummy input\n",
    "        _, loss_value = sess.run([train_op, loss], feed_dict=feed_dict)\n",
    "\n",
    "        \n",
    "        saver.save(sess, \"./model/\", global_step=global_step)\n",
    "        print global_step.eval()\n",
    "        print w.eval()"
   ]
  },
  {
   "cell_type": "code",
   "execution_count": 5,
   "metadata": {
    "collapsed": true
   },
   "outputs": [],
   "source": [
    "graph = tf.get_default_graph()\n",
    "output_dir = './model'\n",
    "ckpt = tf.train.get_checkpoint_state(output_dir)\n",
    "\n",
    "sess2 = tf.InteractiveSession()\n",
    "saver = tf.train.import_meta_graph(ckpt.model_checkpoint_path+'.meta')\n",
    "saver.restore(sess2,ckpt.model_checkpoint_path)\n"
   ]
  },
  {
   "cell_type": "code",
   "execution_count": 9,
   "metadata": {
    "collapsed": false
   },
   "outputs": [
    {
     "data": {
      "text/plain": [
       "[u'input',\n",
       " u'output',\n",
       " u'zeros',\n",
       " u'weight',\n",
       " u'weight/Assign',\n",
       " u'weight/read',\n",
       " u'global_step/initial_value',\n",
       " u'global_step',\n",
       " u'global_step/Assign',\n",
       " u'global_step/read',\n",
       " u'multiplication_op',\n",
       " u'sub',\n",
       " u'Square',\n",
       " u'Const',\n",
       " u'loss',\n",
       " u'gradients/Shape',\n",
       " u'gradients/Const',\n",
       " u'gradients/Fill',\n",
       " u'gradients/loss_grad/Reshape/shape',\n",
       " u'gradients/loss_grad/Reshape',\n",
       " u'gradients/loss_grad/Tile/multiples',\n",
       " u'gradients/loss_grad/Tile',\n",
       " u'gradients/Square_grad/mul/x',\n",
       " u'gradients/Square_grad/mul',\n",
       " u'gradients/Square_grad/mul_1',\n",
       " u'gradients/sub_grad/Shape',\n",
       " u'gradients/sub_grad/Shape_1',\n",
       " u'gradients/sub_grad/BroadcastGradientArgs',\n",
       " u'gradients/sub_grad/Sum',\n",
       " u'gradients/sub_grad/Reshape',\n",
       " u'gradients/sub_grad/Sum_1',\n",
       " u'gradients/sub_grad/Neg',\n",
       " u'gradients/sub_grad/Reshape_1',\n",
       " u'gradients/sub_grad/tuple/group_deps',\n",
       " u'gradients/sub_grad/tuple/control_dependency',\n",
       " u'gradients/sub_grad/tuple/control_dependency_1',\n",
       " u'gradients/multiplication_op_grad/MatMul',\n",
       " u'gradients/multiplication_op_grad/MatMul_1',\n",
       " u'gradients/multiplication_op_grad/tuple/group_deps',\n",
       " u'gradients/multiplication_op_grad/tuple/control_dependency',\n",
       " u'gradients/multiplication_op_grad/tuple/control_dependency_1',\n",
       " u'train_op/learning_rate',\n",
       " u'train_op/update_weight/ApplyGradientDescent',\n",
       " u'train_op/update',\n",
       " u'train_op/value',\n",
       " u'train_op',\n",
       " u'save/Const',\n",
       " u'save/SaveV2/tensor_names',\n",
       " u'save/SaveV2/shape_and_slices',\n",
       " u'save/SaveV2',\n",
       " u'save/control_dependency',\n",
       " u'save/RestoreV2/tensor_names',\n",
       " u'save/RestoreV2/shape_and_slices',\n",
       " u'save/RestoreV2',\n",
       " u'save/Assign',\n",
       " u'save/RestoreV2_1/tensor_names',\n",
       " u'save/RestoreV2_1/shape_and_slices',\n",
       " u'save/RestoreV2_1',\n",
       " u'save/Assign_1',\n",
       " u'save/restore_all',\n",
       " u'init',\n",
       " u'input_1',\n",
       " u'output_1',\n",
       " u'zeros_1',\n",
       " u'weight_1',\n",
       " u'weight/Assign_1',\n",
       " u'weight/read_1',\n",
       " u'global_step/initial_value_1',\n",
       " u'global_step_1',\n",
       " u'global_step/Assign_1',\n",
       " u'global_step/read_1',\n",
       " u'multiplication_op_1',\n",
       " u'sub_1',\n",
       " u'Square_1',\n",
       " u'Const_1',\n",
       " u'loss_1',\n",
       " u'gradients/Shape_1',\n",
       " u'gradients/Const_1',\n",
       " u'gradients/Fill_1',\n",
       " u'gradients/loss_grad/Reshape/shape_1',\n",
       " u'gradients/loss_grad/Reshape_1',\n",
       " u'gradients/loss_grad/Tile/multiples_1',\n",
       " u'gradients/loss_grad/Tile_1',\n",
       " u'gradients/Square_grad/mul/x_1',\n",
       " u'gradients/Square_grad/mul_2',\n",
       " u'gradients/Square_grad/mul_1_1',\n",
       " u'gradients/sub_grad/Shape_2',\n",
       " u'gradients/sub_grad/Shape_1_1',\n",
       " u'gradients/sub_grad/BroadcastGradientArgs_1',\n",
       " u'gradients/sub_grad/Sum_2',\n",
       " u'gradients/sub_grad/Reshape_2',\n",
       " u'gradients/sub_grad/Sum_1_1',\n",
       " u'gradients/sub_grad/Neg_1',\n",
       " u'gradients/sub_grad/Reshape_1_1',\n",
       " u'gradients/sub_grad/tuple/group_deps_1',\n",
       " u'gradients/sub_grad/tuple/control_dependency_2',\n",
       " u'gradients/sub_grad/tuple/control_dependency_1_1',\n",
       " u'gradients/multiplication_op_grad/MatMul_2',\n",
       " u'gradients/multiplication_op_grad/MatMul_1_1',\n",
       " u'gradients/multiplication_op_grad/tuple/group_deps_1',\n",
       " u'gradients/multiplication_op_grad/tuple/control_dependency_2',\n",
       " u'gradients/multiplication_op_grad/tuple/control_dependency_1_1',\n",
       " u'train_op/learning_rate_1',\n",
       " u'train_op/update_weight/ApplyGradientDescent_1',\n",
       " u'train_op/update_1',\n",
       " u'train_op/value_1',\n",
       " u'train_op_1',\n",
       " u'save/Const_1',\n",
       " u'save/SaveV2/tensor_names_1',\n",
       " u'save/SaveV2/shape_and_slices_1',\n",
       " u'save/SaveV2_1',\n",
       " u'save/control_dependency_1',\n",
       " u'save/RestoreV2/tensor_names_1',\n",
       " u'save/RestoreV2/shape_and_slices_1',\n",
       " u'save/RestoreV2_2',\n",
       " u'save/Assign_2',\n",
       " u'save/RestoreV2_1/tensor_names_1',\n",
       " u'save/RestoreV2_1/shape_and_slices_1',\n",
       " u'save/RestoreV2_1_1',\n",
       " u'save/Assign_1_1',\n",
       " u'save/restore_all_1',\n",
       " u'init_1']"
      ]
     },
     "execution_count": 9,
     "metadata": {},
     "output_type": "execute_result"
    }
   ],
   "source": [
    "for t in [n.name for n in tf.get_default_graph().as_graph_def().node]:\n",
    "    if \"loss \""
   ]
  },
  {
   "cell_type": "code",
   "execution_count": 6,
   "metadata": {
    "collapsed": true
   },
   "outputs": [],
   "source": [
    "w_r = graph.get_tensor_by_name(\"weight:0\")"
   ]
  },
  {
   "cell_type": "code",
   "execution_count": 7,
   "metadata": {
    "collapsed": false
   },
   "outputs": [
    {
     "name": "stdout",
     "output_type": "stream",
     "text": [
      "[[-0.07830708]\n",
      " [ 0.09175968]\n",
      " [ 0.13301343]]\n"
     ]
    }
   ],
   "source": [
    "print w_r.eval()"
   ]
  },
  {
   "cell_type": "code",
   "execution_count": null,
   "metadata": {
    "collapsed": true
   },
   "outputs": [],
   "source": []
  }
 ],
 "metadata": {
  "kernelspec": {
   "display_name": "Python 2",
   "language": "python",
   "name": "python2"
  },
  "language_info": {
   "codemirror_mode": {
    "name": "ipython",
    "version": 2
   },
   "file_extension": ".py",
   "mimetype": "text/x-python",
   "name": "python",
   "nbconvert_exporter": "python",
   "pygments_lexer": "ipython2",
   "version": "2.7.13"
  }
 },
 "nbformat": 4,
 "nbformat_minor": 2
}
