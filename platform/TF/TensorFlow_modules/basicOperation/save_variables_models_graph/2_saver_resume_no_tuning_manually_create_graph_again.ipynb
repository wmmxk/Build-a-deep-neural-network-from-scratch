{
 "cells": [
  {
   "cell_type": "code",
   "execution_count": null,
   "metadata": {
    "collapsed": true
   },
   "outputs": [],
   "source": [
    "# In object detection project, the author build the model and before training try restore check point.\n",
    "# What you did here is\n",
    "  # 1. get the checkpoing\n",
    "  # 2. restore the it a saver object\n",
    "  # 3. saver.restore\n",
    "  # 4  Extract operation or tensor, placehoders from the graph\n",
    "  # 5. retrain the model\n",
    "  # 6. use the saver to save another check point\n"
   ]
  },
  {
   "cell_type": "code",
   "execution_count": null,
   "metadata": {
    "collapsed": true
   },
   "outputs": [],
   "source": [
    "# Edge case, when you use adamoptimizer, you can not restore the train_op"
   ]
  },
  {
   "cell_type": "code",
   "execution_count": 1,
   "metadata": {
    "collapsed": false
   },
   "outputs": [],
   "source": [
    "# what saver save in each checkpoint: three files (.data, .index, .meta) and a file named \"checkpoint\" is saved\n",
    "\n",
    "# when resume a checkpoint, \n",
    "                        # what you input is directory where the checkpoint is saved, then use\n",
    "                             # tf.train.get_checkpoint_state() to read in the file named \"checkpoint\"\n",
    "            \n",
    "# When you rerun without turning off the variables will be recreated with old one dangling around. \n",
    "   # you can use len(tf.all_variables()) to see the number of variables in this graph increases\n",
    "\n",
    "# tf.variable() creates an instance of tf.variable class. The name is of the instance is variable by default"
   ]
  },
  {
   "cell_type": "code",
   "execution_count": 1,
   "metadata": {
    "collapsed": false
   },
   "outputs": [],
   "source": [
    "import tensorflow as tf\n",
    "import numpy as np\n",
    "import os"
   ]
  },
  {
   "cell_type": "code",
   "execution_count": 2,
   "metadata": {
    "collapsed": false
   },
   "outputs": [],
   "source": [
    "\n",
    "output_dir = './model'\n",
    "ckpt = tf.train.get_checkpoint_state(output_dir)\n",
    "\n",
    "sess2 = tf.InteractiveSession()\n",
    "saver = tf.train.import_meta_graph(ckpt.model_checkpoint_path+'.meta')\n",
    "saver.restore(sess2,ckpt.model_checkpoint_path)\n",
    "\n"
   ]
  },
  {
   "cell_type": "code",
   "execution_count": 7,
   "metadata": {
    "collapsed": false
   },
   "outputs": [
    {
     "name": "stdout",
     "output_type": "stream",
     "text": [
      "[[ 0.01409703]\n",
      " [ 0.0305276 ]\n",
      " [-0.17594406]]\n"
     ]
    }
   ],
   "source": [
    "graph = tf.get_default_graph()\n",
    "x = graph.get_tensor_by_name(\"input:0\")\n",
    "y = graph.get_tensor_by_name(\"output:0\")\n",
    "\n",
    "# no need to recreate the weight variable \n",
    "w = graph.get_tensor_by_name(\"weight:0\")\n",
    "\n",
    "train_op = graph.get_tensor_by_name(\"train_op:0\")\n",
    "loss = graph.get_tensor_by_name(\"loss:0\")\n",
    "\n",
    "global_step = graph.get_tensor_by_name(\"global_step:0\")\n",
    "print w.eval()"
   ]
  },
  {
   "cell_type": "code",
   "execution_count": 8,
   "metadata": {
    "collapsed": false
   },
   "outputs": [
    {
     "name": "stdout",
     "output_type": "stream",
     "text": [
      "3\n",
      "[[-0.0599285 ]\n",
      " [-0.14089094]\n",
      " [-0.18643224]]\n",
      "4\n",
      "[[-0.02568262]\n",
      " [-0.16823685]\n",
      " [-0.17986053]]\n"
     ]
    }
   ],
   "source": [
    "max_steps = 5\n",
    "\n",
    "for step in range(3,max_steps):\n",
    "        feed_dict = {x: np.random.randn(16, 3), y: np.random.randn(16, 1)}  # dummy input\n",
    "        _, loss_value = sess2.run([train_op, loss], feed_dict=feed_dict)\n",
    "        #print w.eval()\n",
    "        # Save the model every 100 iterations\n",
    "        #if step % 1 == 0:\n",
    "\n",
    "        saver.save(sess2, \"./resume_then_save/\", global_step=global_step)\n",
    "        print global_step.eval()\n",
    "        print w.eval()\n"
   ]
  }
 ],
 "metadata": {
  "kernelspec": {
   "display_name": "Python 2",
   "language": "python",
   "name": "python2"
  },
  "language_info": {
   "codemirror_mode": {
    "name": "ipython",
    "version": 2
   },
   "file_extension": ".py",
   "mimetype": "text/x-python",
   "name": "python",
   "nbconvert_exporter": "python",
   "pygments_lexer": "ipython2",
   "version": "2.7.13"
  }
 },
 "nbformat": 4,
 "nbformat_minor": 2
}
