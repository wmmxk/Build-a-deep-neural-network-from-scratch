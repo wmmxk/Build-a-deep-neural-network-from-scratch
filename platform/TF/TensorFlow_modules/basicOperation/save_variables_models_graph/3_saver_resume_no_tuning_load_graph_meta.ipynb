{
 "cells": [
  {
   "cell_type": "code",
   "execution_count": 1,
   "metadata": {
    "collapsed": false
   },
   "outputs": [],
   "source": [
    "# source: http://cv-tricks.com/tensorflow-tutorial/save-restore-tensorflow-models-quick-complete-tutorial/"
   ]
  },
  {
   "cell_type": "code",
   "execution_count": 1,
   "metadata": {
    "collapsed": false
   },
   "outputs": [],
   "source": [
    "import tensorflow as tf\n",
    "import numpy as np\n",
    "import os"
   ]
  },
  {
   "cell_type": "code",
   "execution_count": 6,
   "metadata": {
    "collapsed": true
   },
   "outputs": [],
   "source": [
    "output_dir = './resume_then_save'\n",
    "ckpt = tf.train.get_checkpoint_state(output_dir)"
   ]
  },
  {
   "cell_type": "code",
   "execution_count": 7,
   "metadata": {
    "collapsed": false
   },
   "outputs": [
    {
     "data": {
      "text/plain": [
       "u'./resume_then_save/-4.meta'"
      ]
     },
     "execution_count": 7,
     "metadata": {},
     "output_type": "execute_result"
    }
   ],
   "source": [
    "ckpt.model_checkpoint_path+'.meta'"
   ]
  },
  {
   "cell_type": "code",
   "execution_count": 8,
   "metadata": {
    "collapsed": false
   },
   "outputs": [
    {
     "name": "stdout",
     "output_type": "stream",
     "text": [
      "[u'weight:0', u'global_step:0', u'weight:0', u'global_step:0']\n"
     ]
    }
   ],
   "source": [
    "# create an interactive session\n",
    "sess3 = tf.InteractiveSession()\n",
    "\n",
    "#saver = tf.train.import_meta_graph('./model/-1.meta')\n",
    "saver = tf.train.import_meta_graph(ckpt.model_checkpoint_path+'.meta')\n",
    "saver.restore(sess3,ckpt.model_checkpoint_path)\n",
    "print [v.name for v in tf.global_variables()]\n"
   ]
  },
  {
   "cell_type": "code",
   "execution_count": 9,
   "metadata": {
    "collapsed": false
   },
   "outputs": [
    {
     "name": "stdout",
     "output_type": "stream",
     "text": [
      "[[-0.02568262]\n",
      " [-0.16823685]\n",
      " [-0.17986053]]\n"
     ]
    }
   ],
   "source": [
    "graph = tf.get_default_graph()\n",
    "x = graph.get_tensor_by_name(\"input:0\")\n",
    "y = graph.get_tensor_by_name(\"output:0\")\n",
    "\n",
    "# no need to recreate the weight variable \n",
    "w = graph.get_tensor_by_name(\"weight:0\")\n",
    "\n",
    "global_step = graph.get_tensor_by_name(\"global_step:0\")\n",
    "print w.eval()\n"
   ]
  },
  {
   "cell_type": "code",
   "execution_count": 7,
   "metadata": {
    "collapsed": false,
    "scrolled": true
   },
   "outputs": [
    {
     "name": "stdout",
     "output_type": "stream",
     "text": [
      "[[-0.15257064]\n",
      " [-0.00922832]\n",
      " [-0.01745658]\n",
      " [-0.02919425]\n",
      " [ 0.04292378]\n",
      " [-0.0331633 ]\n",
      " [-0.15960246]\n",
      " [ 0.3325443 ]\n",
      " [ 0.1450952 ]\n",
      " [ 0.07380494]]\n"
     ]
    }
   ],
   "source": [
    "\n",
    "# Now, let's access and create placeholders variables and\n",
    "# create feed-dict to feed new data\n",
    " \n",
    "\n",
    "feed_dict = {x: np.random.randn(16, 10), y: np.random.randn(16, 1)}  # dummy input\n",
    " \n",
    "#Now, access the op that you want to run. \n",
    "op_to_restore = graph.get_tensor_by_name(\"train_op:0\")\n",
    "\n",
    "sess.run(op_to_restore,feed_dict)\n",
    "\n",
    "print w.eval()"
   ]
  },
  {
   "cell_type": "code",
   "execution_count": 10,
   "metadata": {
    "collapsed": false
   },
   "outputs": [
    {
     "name": "stdout",
     "output_type": "stream",
     "text": [
      "input\n",
      "output\n",
      "zeros\n",
      "weight\n",
      "weight/Assign\n",
      "weight/read\n",
      "global_step/initial_value\n",
      "global_step\n",
      "global_step/Assign\n",
      "global_step/read\n",
      "MatMul\n",
      "sub\n",
      "Square\n",
      "Const\n",
      "Sum\n",
      "gradients/Shape\n",
      "gradients/Const\n",
      "gradients/Fill\n",
      "gradients/Sum_grad/Reshape/shape\n",
      "gradients/Sum_grad/Reshape\n",
      "gradients/Sum_grad/Tile/multiples\n",
      "gradients/Sum_grad/Tile\n",
      "gradients/Square_grad/mul/x\n",
      "gradients/Square_grad/mul\n",
      "gradients/Square_grad/mul_1\n",
      "gradients/sub_grad/Shape\n",
      "gradients/sub_grad/Shape_1\n",
      "gradients/sub_grad/BroadcastGradientArgs\n",
      "gradients/sub_grad/Sum\n",
      "gradients/sub_grad/Reshape\n",
      "gradients/sub_grad/Sum_1\n",
      "gradients/sub_grad/Neg\n",
      "gradients/sub_grad/Reshape_1\n",
      "gradients/sub_grad/tuple/group_deps\n",
      "gradients/sub_grad/tuple/control_dependency\n",
      "gradients/sub_grad/tuple/control_dependency_1\n",
      "gradients/MatMul_grad/MatMul\n",
      "gradients/MatMul_grad/MatMul_1\n",
      "gradients/MatMul_grad/tuple/group_deps\n",
      "gradients/MatMul_grad/tuple/control_dependency\n",
      "gradients/MatMul_grad/tuple/control_dependency_1\n",
      "train_op/learning_rate\n",
      "train_op/update_weight/ApplyGradientDescent\n",
      "train_op/update\n",
      "train_op/value\n",
      "train_op\n",
      "save/Const\n",
      "save/SaveV2/tensor_names\n",
      "save/SaveV2/shape_and_slices\n",
      "save/SaveV2\n",
      "save/control_dependency\n",
      "save/RestoreV2/tensor_names\n",
      "save/RestoreV2/shape_and_slices\n",
      "save/RestoreV2\n",
      "save/Assign\n",
      "save/RestoreV2_1/tensor_names\n",
      "save/RestoreV2_1/shape_and_slices\n",
      "save/RestoreV2_1\n",
      "save/Assign_1\n",
      "save/restore_all\n",
      "init\n"
     ]
    }
   ],
   "source": [
    "for op in tf.get_default_graph().get_operations():\n",
    "    print str(op.name) "
   ]
  }
 ],
 "metadata": {
  "kernelspec": {
   "display_name": "Python 2",
   "language": "python",
   "name": "python2"
  },
  "language_info": {
   "codemirror_mode": {
    "name": "ipython",
    "version": 2
   },
   "file_extension": ".py",
   "mimetype": "text/x-python",
   "name": "python",
   "nbconvert_exporter": "python",
   "pygments_lexer": "ipython2",
   "version": "2.7.13"
  }
 },
 "nbformat": 4,
 "nbformat_minor": 2
}
