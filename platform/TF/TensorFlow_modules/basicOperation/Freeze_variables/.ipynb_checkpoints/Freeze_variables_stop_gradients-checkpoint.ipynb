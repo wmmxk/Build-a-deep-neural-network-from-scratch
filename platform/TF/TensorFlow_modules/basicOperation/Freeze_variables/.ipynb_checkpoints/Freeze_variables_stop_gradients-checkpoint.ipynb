{
 "cells": [
  {
   "cell_type": "code",
   "execution_count": null,
   "metadata": {
    "collapsed": true
   },
   "outputs": [],
   "source": [
    "# The two variables (w1, w2) involved this operation are frozen"
   ]
  },
  {
   "cell_type": "code",
   "execution_count": 1,
   "metadata": {
    "collapsed": true
   },
   "outputs": [],
   "source": [
    "import tensorflow as tf\n",
    "import numpy as np\n",
    "\n",
    "w1 = tf.get_variable(\"w1\", shape=[5, 1], initializer=tf.truncated_normal_initializer())\n",
    "w2 = tf.get_variable(\"w2\", shape=[5, 1], initializer=tf.truncated_normal_initializer())\n",
    "w3 = tf.get_variable(\"w3\", shape=[5, 1], initializer=tf.truncated_normal_initializer())\n",
    "x = tf.placeholder(tf.float32, shape=[None, 5], name=\"x\")\n",
    "\n",
    "\n",
    "a1 = tf.matmul(x, w1)\n",
    "a2 = tf.matmul(x, w2*w3)\n",
    "a2 = tf.stop_gradient(a2)\n",
    "loss = tf.reduce_mean(tf.square(a1 - a2))\n",
    "optimizer = tf.train.GradientDescentOptimizer(learning_rate=0.1)\n",
    "gradients = optimizer.compute_gradients(loss)\n",
    "train_op = optimizer.apply_gradients(gradients)"
   ]
  },
  {
   "cell_type": "code",
   "execution_count": 5,
   "metadata": {
    "collapsed": false
   },
   "outputs": [
    {
     "name": "stdout",
     "output_type": "stream",
     "text": [
      "w1 [[-1.80871427]\n",
      " [ 0.54944217]\n",
      " [-0.15327229]\n",
      " [-0.16167718]\n",
      " [ 1.18806291]]\n",
      "w2 [[-0.77451736]\n",
      " [ 0.35407326]\n",
      " [-0.40658987]\n",
      " [ 0.20315741]\n",
      " [ 0.61441654]]\n",
      "w1 [[-1.37533188]\n",
      " [ 0.58835322]\n",
      " [ 0.01912607]\n",
      " [-0.02006073]\n",
      " [ 0.79144907]]\n",
      "w2 [[-0.77451736]\n",
      " [ 0.35407326]\n",
      " [-0.40658987]\n",
      " [ 0.20315741]\n",
      " [ 0.61441654]]\n"
     ]
    }
   ],
   "source": [
    "# Start a session\n",
    "max_steps = 2\n",
    "with tf.Session() as sess:\n",
    "    # initialize the variables\n",
    "    sess.run(tf.global_variables_initializer())\n",
    "\n",
    "    for step in range(max_steps):\n",
    "        feed_dict = {x: np.random.randn(16,5)}  # dummy input\n",
    "        _, loss_value = sess.run([train_op, loss], feed_dict=feed_dict)\n",
    "\n",
    "        print \"w1\",w1.eval()\n",
    "        print \"w2\", w2.eval()"
   ]
  }
 ],
 "metadata": {
  "kernelspec": {
   "display_name": "Python 2",
   "language": "python",
   "name": "python2"
  },
  "language_info": {
   "codemirror_mode": {
    "name": "ipython",
    "version": 2
   },
   "file_extension": ".py",
   "mimetype": "text/x-python",
   "name": "python",
   "nbconvert_exporter": "python",
   "pygments_lexer": "ipython2",
   "version": "2.7.12"
  }
 },
 "nbformat": 4,
 "nbformat_minor": 0
}
