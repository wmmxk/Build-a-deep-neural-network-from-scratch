{
 "cells": [
  {
   "cell_type": "code",
   "execution_count": null,
   "metadata": {
    "collapsed": true
   },
   "outputs": [],
   "source": [
    "# The two variables (w1, w2) involved this operation are frozen"
   ]
  },
  {
   "cell_type": "code",
   "execution_count": null,
   "metadata": {
    "collapsed": true
   },
   "outputs": [],
   "source": []
  },
  {
   "cell_type": "code",
   "execution_count": 1,
   "metadata": {
    "collapsed": false
   },
   "outputs": [],
   "source": [
    "import tensorflow as tf\n",
    "import numpy as np\n",
    "\n",
    "with tf.variable_scope(\"scope1\"): #create the first time\n",
    "\n",
    "    w1 = tf.get_variable(\"w1\", shape=[5, 1], initializer=tf.truncated_normal_initializer())\n",
    "    w2 = tf.get_variable(\"w2\", shape=[5, 1], initializer=tf.truncated_normal_initializer())\n",
    "with tf.variable_scope(\"scope2\"): #reuse the second time\n",
    "    w3 = tf.get_variable(\"w3\", shape=[5, 1], initializer=tf.truncated_normal_initializer())\n",
    "    \n"
   ]
  },
  {
   "cell_type": "code",
   "execution_count": 2,
   "metadata": {
    "collapsed": true
   },
   "outputs": [],
   "source": [
    "first_train_vars = tf.get_collection(tf.GraphKeys.TRAINABLE_VARIABLES,\n",
    "                                     \"scope1/\")\n"
   ]
  },
  {
   "cell_type": "code",
   "execution_count": 4,
   "metadata": {
    "collapsed": false
   },
   "outputs": [
    {
     "name": "stdout",
     "output_type": "stream",
     "text": [
      "[u'scope1/w1:0', u'scope1/w2:0']\n"
     ]
    }
   ],
   "source": [
    "print [v.name for v in first_train_vars]"
   ]
  },
  {
   "cell_type": "code",
   "execution_count": 6,
   "metadata": {
    "collapsed": false
   },
   "outputs": [
    {
     "ename": "TypeError",
     "evalue": "apply_gradients() got an unexpected keyword argument 'var_list'",
     "output_type": "error",
     "traceback": [
      "\u001b[1;31m---------------------------------------------------------------------------\u001b[0m",
      "\u001b[1;31mTypeError\u001b[0m                                 Traceback (most recent call last)",
      "\u001b[1;32m<ipython-input-6-e16bb1da3c84>\u001b[0m in \u001b[0;36m<module>\u001b[1;34m()\u001b[0m\n\u001b[0;32m     11\u001b[0m \u001b[1;31m#train_op = optimizer.apply_gradients(gradients)\u001b[0m\u001b[1;33m\u001b[0m\u001b[1;33m\u001b[0m\u001b[0m\n\u001b[0;32m     12\u001b[0m \u001b[1;33m\u001b[0m\u001b[0m\n\u001b[1;32m---> 13\u001b[1;33m \u001b[0mfirst_train_op\u001b[0m \u001b[1;33m=\u001b[0m \u001b[0moptimizer\u001b[0m\u001b[1;33m.\u001b[0m\u001b[0mapply_gradients\u001b[0m\u001b[1;33m(\u001b[0m\u001b[0mgradients\u001b[0m\u001b[1;33m,\u001b[0m \u001b[0mvar_list\u001b[0m\u001b[1;33m=\u001b[0m\u001b[0mfirst_train_vars\u001b[0m\u001b[1;33m)\u001b[0m\u001b[1;33m\u001b[0m\u001b[0m\n\u001b[0m",
      "\u001b[1;31mTypeError\u001b[0m: apply_gradients() got an unexpected keyword argument 'var_list'"
     ]
    }
   ],
   "source": [
    "x = tf.placeholder(tf.float32, shape=[None, 5], name=\"x\")\n",
    "\n",
    "\n",
    "a1 = tf.matmul(x, w1)\n",
    "a2 = tf.matmul(x, w2*w3)\n",
    "a2 = tf.stop_gradient(a2)\n",
    "loss = tf.reduce_mean(tf.square(a1 - a2))\n",
    "optimizer = tf.train.GradientDescentOptimizer(learning_rate=0.1)\n",
    "gradients = optimizer.compute_gradients(loss)\n",
    "\n",
    "#train_op = optimizer.apply_gradients(gradients)\n",
    "\n",
    "first_train_op = optimizer.apply_gradients(gradients, var_list=first_train_vars)"
   ]
  },
  {
   "cell_type": "code",
   "execution_count": 5,
   "metadata": {
    "collapsed": false
   },
   "outputs": [
    {
     "name": "stdout",
     "output_type": "stream",
     "text": [
      "w1 [[-1.80871427]\n",
      " [ 0.54944217]\n",
      " [-0.15327229]\n",
      " [-0.16167718]\n",
      " [ 1.18806291]]\n",
      "w2 [[-0.77451736]\n",
      " [ 0.35407326]\n",
      " [-0.40658987]\n",
      " [ 0.20315741]\n",
      " [ 0.61441654]]\n",
      "w1 [[-1.37533188]\n",
      " [ 0.58835322]\n",
      " [ 0.01912607]\n",
      " [-0.02006073]\n",
      " [ 0.79144907]]\n",
      "w2 [[-0.77451736]\n",
      " [ 0.35407326]\n",
      " [-0.40658987]\n",
      " [ 0.20315741]\n",
      " [ 0.61441654]]\n"
     ]
    }
   ],
   "source": [
    "# Start a session\n",
    "max_steps = 2\n",
    "with tf.Session() as sess:\n",
    "    # initialize the variables\n",
    "    sess.run(tf.global_variables_initializer())\n",
    "\n",
    "    for step in range(max_steps):\n",
    "        feed_dict = {x: np.random.randn(16,5)}  # dummy input\n",
    "        _, loss_value = sess.run([train_op, loss], feed_dict=feed_dict)\n",
    "\n",
    "        print \"w1\",w1.eval()\n",
    "        print \"w2\", w2.eval()"
   ]
  }
 ],
 "metadata": {
  "kernelspec": {
   "display_name": "Python 2",
   "language": "python",
   "name": "python2"
  },
  "language_info": {
   "codemirror_mode": {
    "name": "ipython",
    "version": 2
   },
   "file_extension": ".py",
   "mimetype": "text/x-python",
   "name": "python",
   "nbconvert_exporter": "python",
   "pygments_lexer": "ipython2",
   "version": "2.7.12"
  }
 },
 "nbformat": 4,
 "nbformat_minor": 0
}
