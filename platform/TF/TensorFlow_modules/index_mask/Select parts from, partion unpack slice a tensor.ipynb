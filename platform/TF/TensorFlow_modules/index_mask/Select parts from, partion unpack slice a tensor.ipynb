{
 "cells": [
  {
   "cell_type": "markdown",
   "metadata": {},
   "source": [
    "tf.gather() # use a index tensor to select\n",
    "tf.slice() \n",
    "tf.mask() # use a boolean tensor to select\n",
    "indexing\n",
    "unpack\n",
    "tf.dynamic_partition\n",
    "tf.split"
   ]
  },
  {
   "cell_type": "code",
   "execution_count": 9,
   "metadata": {
    "collapsed": false
   },
   "outputs": [
    {
     "name": "stdout",
     "output_type": "stream",
     "text": [
      "(2, 4, 4)\n",
      "(2, 4, 1)\n",
      "[[[ 10.  10.  20.  20.]\n",
      "  [ 11.  10.  10.  30.]]\n",
      "\n",
      " [[ 15.  11.  11.  21.]\n",
      "  [ 17.  11.  11.  21.]]]\n"
     ]
    }
   ],
   "source": [
    "import tensorflow as tf\n",
    "logits = tf.constant([[[10.0, 10.0, 20.0, 20.0],\n",
    "                      [11.0, 10.0, 10.0, 30.0],\n",
    "                      [12.0, 10.0, 10.0, 20.0],\n",
    "                      [13.0, 10.0, 10.0, 20.0]],\n",
    "                     [[14.0, 11.0, 21.0, 31.0],\n",
    "                      [15.0, 11.0, 11.0, 21.0],\n",
    "                      [16.0, 11.0, 11.0, 21.0],\n",
    "                      [17.0, 11.0, 11.0, 21.0]]])\n",
    "\n",
    "indices = tf.constant([[[0, 0], [0, 1]], [[1, 1], [1, 3]]])\n",
    "print logits.get_shape()\n",
    "one_slice = logits[:,:,0:1]\n",
    "print one_slice.get_shape()\n",
    "\n",
    "result = tf.gather_nd(logits, indices)\n",
    "with tf.Session() as sess:\n",
    "    print(sess.run(result))"
   ]
  },
  {
   "cell_type": "markdown",
   "metadata": {},
   "source": [
    "# works on tf 0.12\n",
    "logits = tf.constant([[[10.0, 10.0, 20.0, 20.0],\n",
    "                      [11.0, 10.0, 10.0, 30.0],\n",
    "                      [12.0, 10.0, 10.0, 20.0],\n",
    "                      [13.0, 10.0, 10.0, 20.0]],\n",
    "                     [[14.0, 11.0, 21.0, 31.0],\n",
    "                      [15.0, 11.0, 11.0, 21.0],\n",
    "                      [16.0, 11.0, 11.0, 21.0],\n",
    "                      [17.0, 11.0, 11.0, 21.0]]])\n",
    "\n",
    "split0, split1 = tf.split(logits,[1,3],2)\n",
    "print(split1.get_shape())"
   ]
  },
  {
   "cell_type": "code",
   "execution_count": 15,
   "metadata": {
    "collapsed": true
   },
   "outputs": [],
   "source": [
    "?tf.unpack"
   ]
  }
 ],
 "metadata": {
  "kernelspec": {
   "display_name": "Python 2",
   "language": "python",
   "name": "python2"
  },
  "language_info": {
   "codemirror_mode": {
    "name": "ipython",
    "version": 2
   },
   "file_extension": ".py",
   "mimetype": "text/x-python",
   "name": "python",
   "nbconvert_exporter": "python",
   "pygments_lexer": "ipython2",
   "version": "2.7.12"
  }
 },
 "nbformat": 4,
 "nbformat_minor": 0
}
