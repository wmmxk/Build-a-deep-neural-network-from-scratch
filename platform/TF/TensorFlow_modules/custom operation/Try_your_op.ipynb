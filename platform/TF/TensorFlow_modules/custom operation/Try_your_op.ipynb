{
 "cells": [
  {
   "cell_type": "code",
   "execution_count": null,
   "metadata": {
    "collapsed": true
   },
   "outputs": [],
   "source": [
    "# compile:\n",
    "TF_INC=$(python -c 'import tensorflow as tf; print(tf.sysconfig.get_include())')\n",
    "g++ -std=c++11 -shared zero_out.cc -o zero_out.so -I $TF_INC -fPIC -D_GLIBCXX_USE_CXX11_ABI=0"
   ]
  },
  {
   "cell_type": "code",
   "execution_count": null,
   "metadata": {
    "collapsed": true
   },
   "outputs": [],
   "source": [
    "# Keep in mind, the generated function will be given a snake_case name (to comply with PEP8). \n",
    "#So, if your op is named ZeroOut in the C++ files, the python function will be called zero_out.\n",
    "\n",
    "CamelCase is converted to snake_case"
   ]
  },
  {
   "cell_type": "code",
   "execution_count": null,
   "metadata": {
    "collapsed": true
   },
   "outputs": [],
   "source": [
    "# specify the path when loading the library using tf.load_op_library()"
   ]
  },
  {
   "cell_type": "code",
   "execution_count": 1,
   "metadata": {
    "collapsed": false
   },
   "outputs": [
    {
     "name": "stdout",
     "output_type": "stream",
     "text": [
      "[[1 0]\n",
      " [0 0]]\n"
     ]
    }
   ],
   "source": [
    "import tensorflow as tf\n",
    "zero_out_module = tf.load_op_library('./zero_out.so')\n",
    "with tf.Session(''):\n",
    "  print zero_out_module.my_zero_out([[1, 2], [3, 4]]).eval()\n",
    "\n",
    "# Prints\n",
    "#array([[1, 0], [0, 0]], dtype=int32)"
   ]
  }
 ],
 "metadata": {
  "kernelspec": {
   "display_name": "Python 2",
   "language": "python",
   "name": "python2"
  },
  "language_info": {
   "codemirror_mode": {
    "name": "ipython",
    "version": 2
   },
   "file_extension": ".py",
   "mimetype": "text/x-python",
   "name": "python",
   "nbconvert_exporter": "python",
   "pygments_lexer": "ipython2",
   "version": "2.7.12"
  }
 },
 "nbformat": 4,
 "nbformat_minor": 0
}
