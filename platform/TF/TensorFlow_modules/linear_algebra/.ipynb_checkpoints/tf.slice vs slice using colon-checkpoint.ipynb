{
 "cells": [
  {
   "cell_type": "code",
   "execution_count": null,
   "metadata": {
    "collapsed": true
   },
   "outputs": [],
   "source": [
    "tf.slice keeps all the dimension \n",
    "colon operator do squeeze automatically, if one dimension is 1"
   ]
  },
  {
   "cell_type": "code",
   "execution_count": 4,
   "metadata": {
    "collapsed": false
   },
   "outputs": [
    {
     "name": "stdout",
     "output_type": "stream",
     "text": [
      "t1 shape: [3, 1]\n",
      "t2 shape: [3]\n",
      "t3 shape: [3, 3]\n"
     ]
    }
   ],
   "source": [
    "import tensorflow as tf\n",
    "\n",
    "\n",
    "d=tf.pack([[1,2,3],[4,5,6],[7,8,9]])\n",
    "\n",
    "t1 = tf.slice(d,(0,1),(-1,1))\n",
    "t2 = d[:,1]\n",
    "\n",
    "t3 = t1 - t2\n",
    "\n",
    "\n",
    "print \"t1 shape:\", t1.get_shape().as_list()\n",
    "print \"t2 shape:\", t2.get_shape().as_list()\n",
    "print \"t3 shape:\", t3.get_shape().as_list()"
   ]
  },
  {
   "cell_type": "code",
   "execution_count": 5,
   "metadata": {
    "collapsed": true
   },
   "outputs": [],
   "source": [
    "sess = tf.Session()\n",
    "t1_v, t2_v, t3_v = sess.run([t1,t2,t3])"
   ]
  },
  {
   "cell_type": "code",
   "execution_count": 7,
   "metadata": {
    "collapsed": false
   },
   "outputs": [
    {
     "name": "stdout",
     "output_type": "stream",
     "text": [
      "t1:\n",
      "[[2]\n",
      " [5]\n",
      " [8]] \n",
      "t2:\n",
      "[2 5 8] \n",
      "t3:\n",
      "[[ 0 -3 -6]\n",
      " [ 3  0 -3]\n",
      " [ 6  3  0]]\n"
     ]
    }
   ],
   "source": [
    "print \"t1:\\n\",t1_v, \"\\nt2:\\n\", t2_v, \"\\nt3:\\n\", t3_v\n"
   ]
  }
 ],
 "metadata": {
  "kernelspec": {
   "display_name": "Python 2",
   "language": "python",
   "name": "python2"
  },
  "language_info": {
   "codemirror_mode": {
    "name": "ipython",
    "version": 2
   },
   "file_extension": ".py",
   "mimetype": "text/x-python",
   "name": "python",
   "nbconvert_exporter": "python",
   "pygments_lexer": "ipython2",
   "version": "2.7.12"
  }
 },
 "nbformat": 4,
 "nbformat_minor": 0
}
