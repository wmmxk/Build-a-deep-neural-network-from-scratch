{
 "cells": [
  {
   "cell_type": "code",
   "execution_count": 3,
   "metadata": {},
   "outputs": [],
   "source": [
    "import time\n",
    "import matplotlib.pyplot as plt\n",
    "import numpy as np\n",
    "from keras.models import Sequential\n",
    "from keras.layers import Dense\n",
    "from keras.layers import Dropout\n",
    "from keras.layers import Flatten\n",
    "from keras.constraints import maxnorm\n",
    "from keras.optimizers import SGD\n",
    "from keras.layers import Activation\n",
    "from keras.layers.convolutional import Conv2D\n",
    "from keras.layers.convolutional import MaxPooling2D\n",
    "from keras.layers.normalization import BatchNormalization\n",
    "from keras.utils import np_utils\n",
    "\n",
    "from keras import backend as K\n",
    "if K.backend()=='tensorflow':\n",
    "    K.set_image_dim_ordering(\"th\")\n",
    " \n",
    "# Import Tensorflow with multiprocessing\n",
    "import tensorflow as tf\n",
    "import multiprocessing as mp\n",
    " \n",
    "# Loading the CIFAR-10 datasets\n",
    "from keras.datasets import cifar10\n"
   ]
  },
  {
   "cell_type": "code",
   "execution_count": 4,
   "metadata": {},
   "outputs": [
    {
     "name": "stdout",
     "output_type": "stream",
     "text": [
      "Downloading data from https://www.cs.toronto.edu/~kriz/cifar-10-python.tar.gz\n",
      "170500096/170498071 [==============================] - 71s 0us/step\n"
     ]
    }
   ],
   "source": [
    "batch_size = 32 \n",
    "# 32 examples in a mini-batch, smaller batch size means more updates in one epoch\n",
    " \n",
    "num_classes = 10 #\n",
    "epochs = 100 # repeat 100 times\n",
    "\n",
    "(x_train, y_train), (x_test, y_test) = cifar10.load_data() "
   ]
  },
  {
   "cell_type": "code",
   "execution_count": 5,
   "metadata": {
    "collapsed": true
   },
   "outputs": [],
   "source": [
    "y_train = np_utils.to_categorical(y_train, num_classes)\n",
    "y_test = np_utils.to_categorical(y_test, num_classes)\n",
    "x_train = x_train.astype('float32')\n",
    "x_test = x_test.astype('float32')\n",
    "x_train  /= 255\n",
    "x_test /= 255"
   ]
  },
  {
   "cell_type": "code",
   "execution_count": 6,
   "metadata": {
    "collapsed": true
   },
   "outputs": [],
   "source": [
    "from keras.datasets import mnist\n",
    "from keras.models import Sequential\n",
    "from keras.layers import Dense\n",
    "from keras.layers import Dropout\n",
    "from keras.layers import Flatten\n",
    "from keras.layers.convolutional import Conv2D\n",
    "from keras.layers.convolutional import MaxPooling2D\n",
    "from keras.utils import np_utils\n",
    "from keras import backend as K\n",
    "K.set_image_dim_ordering('th')"
   ]
  },
  {
   "cell_type": "code",
   "execution_count": 11,
   "metadata": {},
   "outputs": [],
   "source": [
    "def base_model():\n",
    "    model = Sequential()\n",
    "    model.add(Conv2D(32, (3, 3), padding='same', input_shape=x_train.shape[1:]))\n",
    "    model.add(Activation('relu'))\n",
    "    model.add(Conv2D(32,(3, 3)))\n",
    "    model.add(Activation('relu'))\n",
    "    model.add(MaxPooling2D(pool_size=(2, 2)))\n",
    "    model.add(Dropout(0.25))\n",
    " \n",
    "    model.add(Conv2D(64, (3, 3), padding='same'))\n",
    "    model.add(Activation('relu'))\n",
    "    model.add(Conv2D(64, (3,3)))\n",
    "    model.add(Activation('relu'))\n",
    "    model.add(MaxPooling2D(pool_size=(2, 2)))\n",
    "    model.add(Dropout(0.25))\n",
    " \n",
    "    model.add(Flatten())\n",
    "    model.add(Dense(512))\n",
    "    model.add(Activation('relu'))\n",
    "    model.add(Dropout(0.5))\n",
    "    model.add(Dense(num_classes))\n",
    "    model.add(Activation('softmax'))\n",
    "\n",
    " \n",
    "    model.compile(loss='categorical_crossentropy', optimizer='adam', metrics=['accuracy'])\n",
    "    return model\n",
    "model = base_model()\n",
    "#model.summary()\n",
    " "
   ]
  },
  {
   "cell_type": "code",
   "execution_count": 16,
   "metadata": {},
   "outputs": [
    {
     "data": {
      "text/plain": [
       "(50000, 3, 32, 32)"
      ]
     },
     "execution_count": 16,
     "metadata": {},
     "output_type": "execute_result"
    }
   ],
   "source": [
    "x_train.shape"
   ]
  },
  {
   "cell_type": "code",
   "execution_count": 18,
   "metadata": {
    "scrolled": true
   },
   "outputs": [
    {
     "name": "stdout",
     "output_type": "stream",
     "text": [
      "Train on 50000 samples, validate on 1000 samples\n",
      "Epoch 1/15\n",
      " - 287s - loss: 1.0473 - acc: 0.6306 - val_loss: 0.9270 - val_acc: 0.6590\n",
      "Epoch 2/15\n",
      " - 287s - loss: 0.9383 - acc: 0.6705 - val_loss: 0.8210 - val_acc: 0.7220\n",
      "Epoch 3/15\n",
      " - 283s - loss: 0.8678 - acc: 0.6941 - val_loss: 0.7634 - val_acc: 0.7280\n",
      "Epoch 4/15\n",
      " - 283s - loss: 0.8093 - acc: 0.7158 - val_loss: 0.7306 - val_acc: 0.7480\n",
      "Epoch 5/15\n",
      " - 283s - loss: 0.7533 - acc: 0.7343 - val_loss: 0.6838 - val_acc: 0.7600\n",
      "Epoch 6/15\n",
      " - 285s - loss: 0.7137 - acc: 0.7497 - val_loss: 0.6853 - val_acc: 0.7710\n",
      "Epoch 7/15\n",
      " - 285s - loss: 0.6790 - acc: 0.7611 - val_loss: 0.6638 - val_acc: 0.7770\n",
      "Epoch 8/15\n",
      " - 285s - loss: 0.6490 - acc: 0.7704 - val_loss: 0.6826 - val_acc: 0.7670\n",
      "Epoch 9/15\n",
      " - 285s - loss: 0.6263 - acc: 0.7800 - val_loss: 0.6312 - val_acc: 0.7910\n",
      "Epoch 10/15\n",
      " - 286s - loss: 0.5914 - acc: 0.7913 - val_loss: 0.6387 - val_acc: 0.7840\n",
      "Epoch 11/15\n",
      " - 287s - loss: 0.5698 - acc: 0.7988 - val_loss: 0.6093 - val_acc: 0.7900\n",
      "Epoch 12/15\n",
      " - 282s - loss: 0.5497 - acc: 0.8049 - val_loss: 0.6051 - val_acc: 0.7980\n",
      "Epoch 13/15\n",
      " - 280s - loss: 0.5245 - acc: 0.8128 - val_loss: 0.5859 - val_acc: 0.8000\n",
      "Epoch 14/15\n",
      " - 280s - loss: 0.5097 - acc: 0.8170 - val_loss: 0.6294 - val_acc: 0.7930\n",
      "Epoch 15/15\n",
      " - 281s - loss: 0.4954 - acc: 0.8220 - val_loss: 0.6020 - val_acc: 0.7950\n",
      "CNN Error: 64.55%\n"
     ]
    }
   ],
   "source": [
    "\n",
    "model.fit(x_train[:50000], y_train[:50000], validation_data=(x_test[:1000], y_test[:1000]), epochs=15, batch_size=200, verbose=2)\n",
    "# Final evaluation of he model\n",
    "#scores = model.evaluate(x_test, y_test, verbose=0)\n",
    "print(\"CNN Error: %.2f%%\" % (100-scores[1]*100))"
   ]
  },
  {
   "cell_type": "code",
   "execution_count": 88,
   "metadata": {},
   "outputs": [
    {
     "data": {
      "text/plain": [
       "<tf.Tensor 'dense_8/Softmax:0' shape=(?, 10) dtype=float32>"
      ]
     },
     "execution_count": 88,
     "metadata": {},
     "output_type": "execute_result"
    }
   ],
   "source": [
    "model.layers[-1].output"
   ]
  },
  {
   "cell_type": "code",
   "execution_count": 19,
   "metadata": {
    "collapsed": true
   },
   "outputs": [],
   "source": [
    "import keras.backend as K\n",
    "f = K.function([model.layers[0].input, K.learning_phase()],\n",
    "               [model.layers[-1].output])"
   ]
  },
  {
   "cell_type": "code",
   "execution_count": 26,
   "metadata": {},
   "outputs": [],
   "source": [
    "img = x_test[:2]\n",
    "img = np.random.rand(2,3,32,32)"
   ]
  },
  {
   "cell_type": "code",
   "execution_count": 27,
   "metadata": {
    "scrolled": true
   },
   "outputs": [
    {
     "data": {
      "image/png": "[encoded data removed]",
      "text/plain": [
       "<matplotlib.figure.Figure at 0x7f5f722775f8>"
      ]
     },
     "metadata": {},
     "output_type": "display_data"
    }
   ],
   "source": [
    "plt.subplot(221)\n",
    "plt.imshow(img[0,0,:,:], cmap=plt.get_cmap('gray'))\n",
    "plt.show()"
   ]
  },
  {
   "cell_type": "code",
   "execution_count": 28,
   "metadata": {},
   "outputs": [
    {
     "data": {
      "text/plain": [
       "[array([[  2.94115423e-04,   6.42496816e-05,   5.21184921e-01,\n",
       "           2.10020994e-03,   1.60975324e-04,   2.38419034e-07,\n",
       "           4.74765390e-01,   2.10050800e-07,   1.19488162e-03,\n",
       "           2.34702457e-04],\n",
       "        [  1.09571312e-03,   1.13610958e-03,   4.39215973e-02,\n",
       "           7.92512763e-03,   7.21118087e-03,   5.19666116e-07,\n",
       "           5.75624168e-01,   2.56241890e-07,   5.03218174e-02,\n",
       "           3.12763542e-01]], dtype=float32)]"
      ]
     },
     "execution_count": 28,
     "metadata": {},
     "output_type": "execute_result"
    }
   ],
   "source": [
    "f((img,1))"
   ]
  },
  {
   "cell_type": "code",
   "execution_count": 68,
   "metadata": {
    "scrolled": false
   },
   "outputs": [
    {
     "data": {
      "text/plain": [
       "(2, 10)"
      ]
     },
     "execution_count": 68,
     "metadata": {},
     "output_type": "execute_result"
    }
   ],
   "source": [
    "f((img,1))[0].shape"
   ]
  },
  {
   "cell_type": "code",
   "execution_count": 32,
   "metadata": {
    "collapsed": true
   },
   "outputs": [],
   "source": [
    "def predict_with_uncertainty(f, x, n_iter=10):\n",
    "    results = []\n",
    "\n",
    "    for iter in range(n_iter):\n",
    "        results.append(f((x,1)))\n",
    "    results = np.array(results)\n",
    "\n",
    "    prediction = results.mean(axis=0)\n",
    "    prediction = np.squeeze(prediction,axis=0)\n",
    "    uncertainty = results.var(axis=0)\n",
    "    uncertainty = np.squeeze(uncertainty,axis=0)\n",
    "    return prediction, uncertainty"
   ]
  },
  {
   "cell_type": "code",
   "execution_count": 52,
   "metadata": {
    "collapsed": true
   },
   "outputs": [],
   "source": [
    "def test_var(img):\n",
    "    pred,var = predict_with_uncertainty(f,img)\n",
    "    labels = pred.argmax(axis=1)\n",
    "    print(pred.max(axis=1))\n",
    "    print(var[[0,1],labels])"
   ]
  },
  {
   "cell_type": "code",
   "execution_count": 53,
   "metadata": {},
   "outputs": [
    {
     "name": "stdout",
     "output_type": "stream",
     "text": [
      "[ 0.60445803  0.81418914]\n",
      "[ 0.06640231  0.04342259]\n"
     ]
    }
   ],
   "source": [
    "img = x_test[9:11]\n",
    "test_var(img)"
   ]
  },
  {
   "cell_type": "code",
   "execution_count": 61,
   "metadata": {},
   "outputs": [
    {
     "name": "stdout",
     "output_type": "stream",
     "text": [
      "[ 0.7280162   0.76298922]\n",
      "[ 0.0807835   0.09471871]\n"
     ]
    }
   ],
   "source": [
    "img = np.random.rand(2,3,32,32)\n",
    "test_var(img)"
   ]
  },
  {
   "cell_type": "code",
   "execution_count": null,
   "metadata": {
    "collapsed": true
   },
   "outputs": [],
   "source": []
  }
 ],
 "metadata": {
  "kernelspec": {
   "display_name": "Python 3",
   "language": "python",
   "name": "python3"
  },
  "language_info": {
   "codemirror_mode": {
    "name": "ipython",
    "version": 3
   },
   "file_extension": ".py",
   "mimetype": "text/x-python",
   "name": "python",
   "nbconvert_exporter": "python",
   "pygments_lexer": "ipython3",
   "version": "3.6.1"
  }
 },
 "nbformat": 4,
 "nbformat_minor": 2
}
