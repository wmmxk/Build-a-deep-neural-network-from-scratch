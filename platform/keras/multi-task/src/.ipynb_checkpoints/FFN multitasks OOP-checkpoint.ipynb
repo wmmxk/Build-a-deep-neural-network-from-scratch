{
 "cells": [
  {
   "cell_type": "code",
   "execution_count": 117,
   "metadata": {},
   "outputs": [],
   "source": [
    "import pandas as pd\n",
    "import numpy as np\n",
    "import keras\n",
    "from keras.models import Sequential,Model\n",
    "from keras.layers import Dense, Dropout,BatchNormalization,Input\n",
    "from keras.optimizers import RMSprop\n",
    "from keras.regularizers import l2,l1\n",
    "from keras.optimizers import Adam\n",
    "\n",
    "from sklearn.model_selection import LeaveOneOut\n",
    "from sklearn.metrics import roc_curve, auc\n",
    "import matplotlib.pyplot as plt\n",
    "from keras.callbacks import EarlyStopping\n",
    "\n",
    "from sklearn.cross_validation import KFold\n",
    "import re\n",
    "\n",
    "from sklearn.metrics import log_loss\n",
    "\n",
    "import scipy\n",
    "import random"
   ]
  },
  {
   "cell_type": "code",
   "execution_count": 118,
   "metadata": {
    "collapsed": true
   },
   "outputs": [],
   "source": [
    "df = pd.read_csv(\"../data/MLDB.csv\")"
   ]
  },
  {
   "cell_type": "code",
   "execution_count": 119,
   "metadata": {
    "collapsed": true
   },
   "outputs": [],
   "source": [
    "first_gene_index = df.columns.get_loc(\"rrrD\")\n",
    "X, Y = np.split(df, [first_gene_index], axis=1)\n",
    "X = X.values\n",
    "X = X-0.5\n",
    "num_output_ = 3\n",
    "ys = [*((Y.values).T[:num_output_])]"
   ]
  },
  {
   "cell_type": "code",
   "execution_count": 203,
   "metadata": {},
   "outputs": [],
   "source": [
    "# to do; create an abstract class for Train to help you implement the Train class.\n",
    "\n",
    "class Train(object):\n",
    "    def __init__(self,X,ys):\n",
    "        self.X = X\n",
    "        self.ys = ys\n",
    "        self.num_input = X.shape[1]\n",
    "        self.num_output = len(ys)\n",
    "        self.preds = np.zeros((self.X.shape[0],self.num_output))\n",
    "        self.setting = None # to be updated by _create_setting function in create_model\n",
    "\n",
    "    def _create_setting(self):\n",
    "        '''\n",
    "        generate a list of int, the first element determine the nubmer of layers; \n",
    "        the last one is the number of epoches\n",
    "        '''\n",
    "        setting = []\n",
    "        num_layers = random.choice([2,3])\n",
    "        setting.append(num_layers)\n",
    "        for i in range(num_layers):\n",
    "            setting.append(random.randint(32,256))\n",
    "        setting.append(random.randint(setting[0]*3-2,20))\n",
    "        return setting\n",
    "    \n",
    "    def _create_model(self):\n",
    "        '''\n",
    "        generate a setting and then create a model following that setting\n",
    "        '''     \n",
    "        X_input = Input(shape=(self.num_input,))\n",
    "        X = X_input\n",
    "        self.setting = self._create_setting()\n",
    "        \n",
    "        for i in range(self.setting[0]):\n",
    "            X = Dense(self.setting[i+1])(X)\n",
    "            X = Dropout(0.2)(X)\n",
    "\n",
    "        Ys= []\n",
    "        for i in range(self.num_output):\n",
    "            Ys.append(Dense(1, activation = 'sigmoid')(X))\n",
    "        model = Model(inputs=[X_input],outputs = Ys)\n",
    "        model.compile(loss=['binary_crossentropy']*self.num_output,\n",
    "                      loss_weights=[1.]*self.num_output,optimizer=Adam(lr=0.01), metrics=['accuracy'])\n",
    "        return model\n",
    "    def cross_validation(self):\n",
    "        '''\n",
    "        Do k-fold-cross-validation and update the self.preds\n",
    "        '''\n",
    "        nfolds = 5\n",
    "        folds = KFold(len(self.X), n_folds = nfolds, shuffle = True, random_state = 2018)\n",
    "        \n",
    "        for (inTr, inTe) in folds:\n",
    "            xtr = self.X[inTr]\n",
    "            ytr = [y[inTr] for y in self.ys]\n",
    "            xte = self.X[inTe] # xte is xde in fact\n",
    "            yte = [y[inTe] for y in self.ys]\n",
    "            model = self._create_model()\n",
    "            history = model.fit(xtr,ytr,epochs = self.setting[-1], verbose = 0, validation_data= (xte,yte),shuffle=True)\n",
    "            keys_monitor = [key  for key in history.history.keys() if bool(re.search('val.*acc',key))]\n",
    "            yte_pred = model.predict(xte)\n",
    "            for i in range(num_output_):\n",
    "                self.preds[inTe,i] = yte_pred[i][:,0]\n",
    "\n",
    "            val_acc = np.mean([history.history[key_monitor][-1] for key_monitor in keys_monitor])\n",
    "            print(val_acc)\n",
    "            "
   ]
  },
  {
   "cell_type": "code",
   "execution_count": 204,
   "metadata": {},
   "outputs": [],
   "source": [
    "train = Train(X,ys)\n",
    "model = train._create_model()"
   ]
  },
  {
   "cell_type": "code",
   "execution_count": 205,
   "metadata": {},
   "outputs": [
    {
     "name": "stdout",
     "output_type": "stream",
     "text": [
      "0.962962962963\n",
      "0.972222222222\n",
      "0.953703703704\n",
      "0.961904761905\n",
      "0.933333333901\n"
     ]
    }
   ],
   "source": [
    "train.cross_validation()"
   ]
  },
  {
   "cell_type": "code",
   "execution_count": 206,
   "metadata": {},
   "outputs": [],
   "source": [
    "def visualize_pre(ytest,preds_test,classification = True):\n",
    "    fig = plt.figure(figsize= (6,4))\n",
    "\n",
    "    plt.scatter(ytest,preds_test)\n",
    "    plt.xlabel('Truth')\n",
    "    plt.ylabel('Prediction')\n",
    "\n",
    "    PCC = round(scipy.stats.pearsonr(ytest,preds_test)[0],3)\n",
    "    BCE = log_loss(ytest, preds_test,eps = 0.02)\n",
    "    if classification:\n",
    "        plt.text(np.min(ytest)*1.1, 0.95*np.max(preds_test), r'BCE='+str(round(BCE,3)),fontsize=10)\n",
    "    else:\n",
    "        plt.text(np.min(ytest)*1.1, 0.95*np.max(preds_test), r'PCC='+str(PCC),fontsize=10)\n",
    "    plt.show()"
   ]
  },
  {
   "cell_type": "code",
   "execution_count": 207,
   "metadata": {
    "scrolled": true
   },
   "outputs": [
    {
     "data": {
      "image/png": "[encoded data removed]",
      "text/plain": [
       "<matplotlib.figure.Figure at 0x7f864d527128>"
      ]
     },
     "metadata": {},
     "output_type": "display_data"
    }
   ],
   "source": [
    "visualize_pre(ys[1],train.preds[:,1])"
   ]
  }
 ],
 "metadata": {
  "kernelspec": {
   "display_name": "Python 3",
   "language": "python",
   "name": "python3"
  },
  "language_info": {
   "codemirror_mode": {
    "name": "ipython",
    "version": 3
   },
   "file_extension": ".py",
   "mimetype": "text/x-python",
   "name": "python",
   "nbconvert_exporter": "python",
   "pygments_lexer": "ipython3",
   "version": "3.6.1"
  }
 },
 "nbformat": 4,
 "nbformat_minor": 2
}
