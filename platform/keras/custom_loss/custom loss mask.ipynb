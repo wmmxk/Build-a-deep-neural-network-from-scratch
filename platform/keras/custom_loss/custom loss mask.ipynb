{
 "cells": [
  {
   "cell_type": "code",
   "execution_count": 69,
   "metadata": {
    "collapsed": true
   },
   "outputs": [],
   "source": [
    "# This loss is for a location task. So two coordiates and classification label are \n",
    "# predicted. If there is no object, the loss for regression task is zeros"
   ]
  },
  {
   "cell_type": "code",
   "execution_count": 70,
   "metadata": {},
   "outputs": [],
   "source": [
    "import tensorflow as tf\n",
    "import keras\n",
    "import numpy as np\n",
    "from keras import backend as K"
   ]
  },
  {
   "cell_type": "code",
   "execution_count": 71,
   "metadata": {
    "collapsed": true
   },
   "outputs": [],
   "source": [
    "#create a pred and a truth. Suppose 4 regression task and 4 corresponding classification\n",
    "# task\n",
    "batch_size = 2\n",
    "p = 4\n",
    "pred1 = np.random.random((batch_size,p))\n",
    "pred2 = np.random.randint(2,size=(batch_size,p))\n",
    "pred = np.concatenate((pred1,pred2), axis = 1)\n",
    "\n",
    "truth1 = np.random.random((batch_size,p))\n",
    "truth2 = np.random.randint(2,size=(batch_size,p))\n",
    "truth = np.concatenate((truth1,truth2), axis = 1)"
   ]
  },
  {
   "cell_type": "code",
   "execution_count": 72,
   "metadata": {
    "collapsed": true
   },
   "outputs": [],
   "source": [
    "def myloss(pred,truth):\n",
    "    pred_w = tf.slice(truth,[0,0],[batch_size,p])*tf.slice(truth,[0,p],[batch_size,p])\n",
    "    truth_w = tf.slice(pred,[0,0],[batch_size,p])*tf.slice(truth,[0,p],[batch_size,p])\n",
    "    losses =tf.losses.mean_squared_error(pred_w,truth_w)\n",
    "    return losses"
   ]
  },
  {
   "cell_type": "code",
   "execution_count": 73,
   "metadata": {},
   "outputs": [],
   "source": [
    "pred_holder = tf.placeholder(tf.float32,[batch_size,2*p])\n",
    "true_holder = tf.placeholder(tf.float32,[batch_size,2*p])\n",
    "loss = myloss(pred_holder,true_holder)"
   ]
  },
  {
   "cell_type": "code",
   "execution_count": 74,
   "metadata": {},
   "outputs": [
    {
     "name": "stdout",
     "output_type": "stream",
     "text": [
      "0.118732\n"
     ]
    }
   ],
   "source": [
    "with tf.Session() as sess:\n",
    "    res = sess.run(loss,feed_dict =  {pred_holder: pred, true_holder:truth})\n",
    "    print(res)"
   ]
  },
  {
   "cell_type": "code",
   "execution_count": 68,
   "metadata": {},
   "outputs": [
    {
     "data": {
      "text/plain": [
       "array([[ 0.,  1.,  0.,  0.],\n",
       "       [ 1.,  1.,  0.,  0.]])"
      ]
     },
     "execution_count": 68,
     "metadata": {},
     "output_type": "execute_result"
    }
   ],
   "source": [
    "truth[:,4:]"
   ]
  },
  {
   "cell_type": "code",
   "execution_count": 46,
   "metadata": {
    "scrolled": true
   },
   "outputs": [
    {
     "data": {
      "text/plain": [
       "array([[ 0.125517  ,  0.84539533,  0.39157235,  0.24540973,  0.        ,\n",
       "         0.        ,  1.        ,  1.        ],\n",
       "       [ 0.33080374,  0.56422006,  0.96803472,  0.23929137,  1.        ,\n",
       "         0.        ,  1.        ,  1.        ]])"
      ]
     },
     "execution_count": 46,
     "metadata": {},
     "output_type": "execute_result"
    }
   ],
   "source": [
    "truth"
   ]
  },
  {
   "cell_type": "code",
   "execution_count": 47,
   "metadata": {},
   "outputs": [
    {
     "data": {
      "text/plain": [
       "array([[ 0.2931445 ,  0.3802023 ,  0.70936867,  0.65773757,  1.        ,\n",
       "         0.        ,  1.        ,  0.        ],\n",
       "       [ 0.18161072,  0.9817209 ,  0.06135219,  0.93188056,  0.        ,\n",
       "         1.        ,  1.        ,  0.        ]])"
      ]
     },
     "execution_count": 47,
     "metadata": {},
     "output_type": "execute_result"
    }
   ],
   "source": [
    "pred"
   ]
  },
  {
   "cell_type": "code",
   "execution_count": null,
   "metadata": {
    "collapsed": true
   },
   "outputs": [],
   "source": []
  }
 ],
 "metadata": {
  "kernelspec": {
   "display_name": "Python 3",
   "language": "python",
   "name": "python3"
  },
  "language_info": {
   "codemirror_mode": {
    "name": "ipython",
    "version": 3
   },
   "file_extension": ".py",
   "mimetype": "text/x-python",
   "name": "python",
   "nbconvert_exporter": "python",
   "pygments_lexer": "ipython3",
   "version": "3.6.3"
  }
 },
 "nbformat": 4,
 "nbformat_minor": 2
}
