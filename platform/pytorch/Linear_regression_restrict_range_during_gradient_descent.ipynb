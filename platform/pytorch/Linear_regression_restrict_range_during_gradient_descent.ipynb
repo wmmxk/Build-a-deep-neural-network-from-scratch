{
 "cells": [
  {
   "cell_type": "code",
   "execution_count": 66,
   "metadata": {},
   "outputs": [],
   "source": [
    "import torch\n",
    "from torch import nn, optim\n",
    "from torch.autograd import Variable\n",
    "\n",
    "\n",
    "import numpy as np\n",
    "import matplotlib.pyplot as plt"
   ]
  },
  {
   "cell_type": "code",
   "execution_count": 67,
   "metadata": {},
   "outputs": [],
   "source": [
    "# create some data\n",
    "np.random.seed(2019)\n",
    "n, p = 2000, 10\n",
    "x_train = np.random.rand(n, p).astype(np.float32)\n",
    "w_true = np.random.rand(p, 1).astype(np.float32)\n",
    "\n",
    "y_train = np.matmul(x_train, w_true)\n",
    "\n",
    "x_train = torch.from_numpy(x_train)\n",
    "y_train = torch.from_numpy(y_train)"
   ]
  },
  {
   "cell_type": "code",
   "execution_count": 68,
   "metadata": {},
   "outputs": [],
   "source": [
    "# create a model\n",
    "class LinearRegression(nn.Module):\n",
    "    def __init__(self):\n",
    "        super(LinearRegression, self).__init__()\n",
    "        self.w = torch.nn.Parameter(torch.randn(p, 1, requires_grad=True))\n",
    "        self.b = torch.nn.Parameter(torch.randn(1, requires_grad=True))\n",
    "\n",
    "    def forward(self, x):\n",
    "        out = torch.mm(x, self.w) + self.b\n",
    "        return out\n",
    "    \n",
    "model = LinearRegression()"
   ]
  },
  {
   "cell_type": "code",
   "execution_count": 69,
   "metadata": {},
   "outputs": [],
   "source": [
    "# define loss function\n",
    "def customize_loss(y_hat, y):\n",
    "    # define mean squared error (mse) loss\n",
    "    # y.numel is the number of elements in y; y can be a vector or 2d, 3d tensor.\n",
    "    loss = (y-y_hat).pow(2).sum()/y.numel()\n",
    "    return loss\n",
    "\n",
    "def calculate_norm(model, lambda1=1e-3, lambda2=1e-3):\n",
    "    # no penaly on the bias term, so the bias term is excluded\n",
    "    weights = torch.cat([p.view(-1) for p  in model.parameters() if p.numel()>1])\n",
    "    l1 = lambda1 * torch.norm(weights, 1)\n",
    "    l2 = lambda2 * torch.norm(weights, 2)\n",
    "    return l1 + l2\n"
   ]
  },
  {
   "cell_type": "code",
   "execution_count": 70,
   "metadata": {},
   "outputs": [],
   "source": [
    "# create an optimizer\n",
    "optimizer = optim.Adam(model.parameters(), lr=1e-2)\n",
    "\n",
    "# set the learning rate after you create an optimizer\n",
    "# for g in optimizer.param_groups:\n",
    "#     g['lr'] = 1e-5"
   ]
  },
  {
   "cell_type": "code",
   "execution_count": 71,
   "metadata": {
    "scrolled": false
   },
   "outputs": [
    {
     "name": "stdout",
     "output_type": "stream",
     "text": [
      "Epoch[200/3000], loss: 0.231214\n",
      "Epoch[400/3000], loss: 0.151679\n",
      "Epoch[600/3000], loss: 0.068189\n",
      "Epoch[800/3000], loss: 0.033528\n",
      "Epoch[1000/3000], loss: 0.023721\n",
      "Epoch[1200/3000], loss: 0.019109\n",
      "Epoch[1400/3000], loss: 0.014253\n",
      "Epoch[1600/3000], loss: 0.012319\n",
      "Epoch[1800/3000], loss: 0.011819\n",
      "Epoch[2000/3000], loss: 0.011666\n",
      "Epoch[2200/3000], loss: 0.011579\n",
      "Epoch[2400/3000], loss: 0.011491\n",
      "Epoch[2600/3000], loss: 0.011389\n",
      "Epoch[2800/3000], loss: 0.011268\n",
      "Epoch[3000/3000], loss: 0.011125\n"
     ]
    }
   ],
   "source": [
    "# the training three steps: put the data in Variable, do forward pass, and backward pass;\n",
    "# the backward pass include three steps: reset the gradient before doing backward, calcuate gradient; update the weights.\n",
    "num_epochs = 3000\n",
    "for epoch in range(num_epochs):\n",
    "    inputs = Variable(x_train)\n",
    "    target = Variable(y_train)\n",
    "\n",
    "    # forward\n",
    "    y_hat = model(inputs)\n",
    "    loss = customize_loss(y_hat, target)\n",
    "    # backward\n",
    "    optimizer.zero_grad()\n",
    "    loss.backward()\n",
    "    optimizer.step()\n",
    "    \n",
    "    # always clip the weights to the range of zero and one\n",
    "    w = model.w.data\n",
    "    w.sub_(torch.min(w)).div_(torch.max(w) - torch.min(w))\n",
    "    # set the weight to be always positive\n",
    "    w *= torch.sign(w)\n",
    "\n",
    "    if (epoch+1) % 200 == 0:\n",
    "        print('Epoch[{}/{}], loss: {:.6f}' .format(epoch+1, num_epochs, loss.data))\n",
    "\n",
    "# set the model in evaludation model. This does not make difference for LR\n",
    "model.eval()\n",
    "y_hat = model(Variable(x_train))\n",
    "y_hat = y_hat.data.numpy()\n"
   ]
  },
  {
   "cell_type": "code",
   "execution_count": 72,
   "metadata": {
    "scrolled": false
   },
   "outputs": [
    {
     "data": {
      "image/png": "[encoded data removed]",
      "text/plain": [
       "<Figure size 432x288 with 1 Axes>"
      ]
     },
     "metadata": {
      "needs_background": "light"
     },
     "output_type": "display_data"
    }
   ],
   "source": [
    "# visualize y_hat vs y_true\n",
    "plt.scatter(y_train[:,0], y_hat[:,0])\n",
    "plt.xlabel(\"Truth\")\n",
    "plt.ylabel(\"Prediction\")\n",
    "plt.show()"
   ]
  },
  {
   "cell_type": "code",
   "execution_count": 73,
   "metadata": {
    "scrolled": false
   },
   "outputs": [
    {
     "name": "stdout",
     "output_type": "stream",
     "text": [
      "w_true: [[0.5374348 ]\n",
      " [0.40696847]\n",
      " [0.84283584]\n",
      " [0.31304854]\n",
      " [0.09451906]\n",
      " [0.47716364]\n",
      " [0.6906084 ]\n",
      " [0.72971416]\n",
      " [0.69899505]\n",
      " [0.7572563 ]]\n"
     ]
    },
    {
     "data": {
      "text/plain": [
       "OrderedDict([('w', tensor([[0.6005],\n",
       "                      [0.4300],\n",
       "                      [1.0000],\n",
       "                      [0.3147],\n",
       "                      [0.0000],\n",
       "                      [0.5380],\n",
       "                      [0.8243],\n",
       "                      [0.9113],\n",
       "                      [0.8352],\n",
       "                      [0.8882]])), ('b', tensor([-0.3975]))])"
      ]
     },
     "execution_count": 73,
     "metadata": {},
     "output_type": "execute_result"
    }
   ],
   "source": [
    "# if the learned weights are not close the true weights at all, train more epoches.\n",
    "print(\"w_true:\", w_true)\n",
    "model.state_dict()"
   ]
  },
  {
   "cell_type": "code",
   "execution_count": 10,
   "metadata": {},
   "outputs": [],
   "source": [
    "def save_weight_of_model(model, save_path=\"model.pth.tar\"):\n",
    "    checkpoint = {\n",
    "\n",
    "       \"weight\" : model.state_dict(),\n",
    "        \"epoch\": None\n",
    "    }\n",
    "\n",
    "    torch.save(checkpoint, save_path)"
   ]
  },
  {
   "cell_type": "code",
   "execution_count": 11,
   "metadata": {},
   "outputs": [],
   "source": [
    "def load_weights_to_a_model(model, path=\"model.pth.tar\"):\n",
    "    checkpoint = torch.load(\"model.pth.tar\")\n",
    "    model.load_state_dict(checkpoint['weight'])\n",
    "    return model"
   ]
  },
  {
   "cell_type": "code",
   "execution_count": 12,
   "metadata": {
    "scrolled": false
   },
   "outputs": [
    {
     "data": {
      "image/png": "[encoded data removed]",
      "text/plain": [
       "<Figure size 432x288 with 1 Axes>"
      ]
     },
     "metadata": {},
     "output_type": "display_data"
    }
   ],
   "source": [
    "# save and load weight\n",
    "save_weight_of_model(model)\n",
    "model_load = LinearRegression()\n",
    "model_load = load_weights_to_a_model(model_load, \"model.pth.tar\")\n",
    "# make prediction using the loaded model\n",
    "y_hat = model_load(Variable(x_train))\n",
    "y_hat = y_hat.detach().numpy()\n",
    "\n",
    "plt.scatter(y_train[:,0], y_hat[:,0])\n",
    "plt.xlabel(\"Truth\")\n",
    "plt.ylabel(\"Prediction\")\n",
    "plt.show()"
   ]
  },
  {
   "cell_type": "code",
   "execution_count": 13,
   "metadata": {},
   "outputs": [
    {
     "name": "stdout",
     "output_type": "stream",
     "text": [
      "type of x: float32\n",
      "type of w: torch.float32\n"
     ]
    },
    {
     "data": {
      "text/plain": [
       "tensor([[0.9658],\n",
       "        [0.9365],\n",
       "        [1.2335]], grad_fn=<SliceBackward>)"
      ]
     },
     "execution_count": 13,
     "metadata": {},
     "output_type": "execute_result"
    }
   ],
   "source": [
    "# some possible bugs unique to pytorch.\n",
    "# bug 1\n",
    "np.random.seed(2019)\n",
    "x_train = np.random.rand(n, p)\n",
    "x_train = x_train.astype(np.float32)  # necessary\n",
    "print(\"type of x:\", x_train.dtype)\n",
    "x_train = torch.from_numpy(x_train)\n",
    "w = torch.randn(p, 1, requires_grad=True)\n",
    "print(\"type of w:\", w.dtype)\n",
    "torch.matmul(x_train, w)[:3,]"
   ]
  },
  {
   "cell_type": "code",
   "execution_count": 14,
   "metadata": {
    "scrolled": true
   },
   "outputs": [
    {
     "data": {
      "image/png": "[encoded data removed]",
      "text/plain": [
       "<Figure size 432x288 with 1 Axes>"
      ]
     },
     "metadata": {},
     "output_type": "display_data"
    }
   ],
   "source": [
    "# mistake a tensor requiring grad as a numpy array\n",
    "# bug 2\n",
    "y_hat = model_load(Variable(x_train))\n",
    "y_hat = y_hat.detach().numpy() # necessary\n",
    "\n",
    "plt.scatter(y_train[:,0], y_hat[:,0])\n",
    "plt.xlabel(\"Truth\")\n",
    "plt.ylabel(\"Prediction\")\n",
    "plt.show()"
   ]
  },
  {
   "cell_type": "code",
   "execution_count": 15,
   "metadata": {},
   "outputs": [],
   "source": [
    "# forget to zero out the gradient before doing backward pass\n",
    "# bug 3\n",
    "# optimizer.zero_grad()"
   ]
  },
  {
   "cell_type": "code",
   "execution_count": null,
   "metadata": {},
   "outputs": [],
   "source": []
  }
 ],
 "metadata": {
  "kernelspec": {
   "display_name": "Python 3",
   "language": "python",
   "name": "python3"
  },
  "language_info": {
   "codemirror_mode": {
    "name": "ipython",
    "version": 3
   },
   "file_extension": ".py",
   "mimetype": "text/x-python",
   "name": "python",
   "nbconvert_exporter": "python",
   "pygments_lexer": "ipython3",
   "version": "3.6.8"
  }
 },
 "nbformat": 4,
 "nbformat_minor": 2
}
