{
 "cells": [
  {
   "cell_type": "markdown",
   "metadata": {},
   "source": [
    "Motivation of this series:\n",
    "      You want to feed the cell_state (not the hidden state) of the last cell in the previous episode to \n",
    "      the first cell in the next episode"
   ]
  },
  {
   "cell_type": "markdown",
   "metadata": {
    "collapsed": true
   },
   "source": [
    "The num of time steps is determined by the input. Here time_step is one. So you are trying to feed the\n",
    "the cell state to the cell in next episode\n"
   ]
  },
  {
   "cell_type": "markdown",
   "metadata": {},
   "source": [
    "Trap: \n",
    "    you tried to update self.rnn_state_t in the following way. But it does not work.\n",
    "    output_, self.rnn_state_t = self.rnn_cell(input_t, self.rnn_state_t)"
   ]
  },
  {
   "cell_type": "markdown",
   "metadata": {},
   "source": [
    "You tested whether the cell state is passed to the next episode by testing the output of the same input\n",
    "are equal or not in two episode. It turned out it is always the same."
   ]
  },
  {
   "cell_type": "code",
   "execution_count": null,
   "metadata": {
    "collapsed": true
   },
   "outputs": [],
   "source": [
    "self.rnn_state_t = self.rnn_cell.zero_state(self.batch_size,tf.float32)\n",
    "The above line set the initial state to be zeros. It works. The interface of rnn_cell should have a \n",
    "function like this which allows you to set the cell state with a tensor in one line"
   ]
  },
  {
   "cell_type": "code",
   "execution_count": 1,
   "metadata": {
    "collapsed": false
   },
   "outputs": [],
   "source": [
    "import tensorflow as tf\n",
    "import numpy as np\n",
    "state_size = 4\n",
    "input_len =5\n",
    "batch_size=3\n"
   ]
  },
  {
   "cell_type": "code",
   "execution_count": 2,
   "metadata": {
    "collapsed": true
   },
   "outputs": [],
   "source": [
    "class Agent:\n",
    "    def __init__(self):\n",
    "        self.rnn_cell = None\n",
    "        self.initialized = False\n",
    "        self.batch_size = None\n",
    "        self.output = None\n",
    "        self.rnn_state_t=None\n",
    "    def first(self,input_t):\n",
    "        self.batch_size = tf.unpack(tf.shape(input_t))[0]\n",
    "        with tf.variable_scope(\"rnn\"):\n",
    "            self.rnn_cell = tf.nn.rnn_cell.BasicLSTMCell(state_size)\n",
    "            self.rnn_state_t = self.rnn_cell.zero_state(self.batch_size,tf.float32)\n",
    "        output_= self.predict(input_t)\n",
    "        self.initialized = True\n",
    "        return output_\n",
    "    def predict(self,input_t):\n",
    "\n",
    "        if self.initialized:\n",
    "            tf.get_variable_scope().reuse_variables()\n",
    "        with tf.variable_scope(\"rnn/RNN\"):\n",
    "            output_, self.rnn_state_t = self.rnn_cell(input_t, self.rnn_state_t)\n",
    "\n",
    "            \n",
    "        return output_ , self.rnn_state_t"
   ]
  },
  {
   "cell_type": "code",
   "execution_count": 3,
   "metadata": {
    "collapsed": false
   },
   "outputs": [],
   "source": [
    "input_t = tf.placeholder(tf.float32,(None,input_len))\n",
    "agent = Agent()\n",
    "\n",
    "\n",
    "output1_t = agent.first(input_t)\n",
    "\n",
    "output2_t = agent.predict(input_t)\n",
    "\n",
    "init_op = tf.global_variables_initializer()\n",
    "\n",
    "saver = tf.train.Saver()"
   ]
  },
  {
   "cell_type": "code",
   "execution_count": 4,
   "metadata": {
    "collapsed": false
   },
   "outputs": [],
   "source": [
    "sess = tf.Session()\n",
    "sess.run(init_op)\n",
    "\n",
    "np.random.seed(0)\n",
    "input = np.random.rand(batch_size,input_len)\n",
    "\n",
    "output1_v1,output2_v1 = sess.run([output1_t, output2_t],{input_t: input})\n",
    "\n",
    "save_path = saver.save(sess, './rnn_checkpoints/model.ckpt')"
   ]
  },
  {
   "cell_type": "code",
   "execution_count": 5,
   "metadata": {
    "collapsed": true
   },
   "outputs": [],
   "source": [
    "output1_v2,output2_v2 = sess.run([output1_t, output2_t],{input_t: input})"
   ]
  },
  {
   "cell_type": "code",
   "execution_count": 6,
   "metadata": {
    "collapsed": false
   },
   "outputs": [
    {
     "data": {
      "text/plain": [
       "array([[ True,  True,  True,  True],\n",
       "       [ True,  True,  True,  True],\n",
       "       [ True,  True,  True,  True]], dtype=bool)"
      ]
     },
     "execution_count": 6,
     "metadata": {},
     "output_type": "execute_result"
    }
   ],
   "source": [
    "output2_v1[0] == output2_v2[0]"
   ]
  },
  {
   "cell_type": "code",
   "execution_count": 7,
   "metadata": {
    "collapsed": false
   },
   "outputs": [],
   "source": [
    "# Define a testing agent\n",
    "saver.restore(sess, './rnn_checkpoints/model.ckpt')\n",
    "agent_test = Agent()\n",
    "\n",
    "\n",
    "output1_t = agent_test.first(input_t)\n",
    "output2_t = agent_test.predict(input_t)\n",
    "\n",
    "output1_v3,output2_v3 = sess.run([output1_t, output2_t],{input_t: input})"
   ]
  },
  {
   "cell_type": "code",
   "execution_count": 8,
   "metadata": {
    "collapsed": false
   },
   "outputs": [
    {
     "data": {
      "text/plain": [
       "array([[ True,  True,  True,  True],\n",
       "       [ True,  True,  True,  True],\n",
       "       [ True,  True,  True,  True]], dtype=bool)"
      ]
     },
     "execution_count": 8,
     "metadata": {},
     "output_type": "execute_result"
    }
   ],
   "source": [
    "output2_v2[0] == output2_v3[0]"
   ]
  },
  {
   "cell_type": "code",
   "execution_count": null,
   "metadata": {
    "collapsed": true
   },
   "outputs": [],
   "source": []
  }
 ],
 "metadata": {
  "kernelspec": {
   "display_name": "Python 2",
   "language": "python",
   "name": "python2"
  },
  "language_info": {
   "codemirror_mode": {
    "name": "ipython",
    "version": 2
   },
   "file_extension": ".py",
   "mimetype": "text/x-python",
   "name": "python",
   "nbconvert_exporter": "python",
   "pygments_lexer": "ipython2",
   "version": "2.7.13"
  }
 },
 "nbformat": 4,
 "nbformat_minor": 2
}
