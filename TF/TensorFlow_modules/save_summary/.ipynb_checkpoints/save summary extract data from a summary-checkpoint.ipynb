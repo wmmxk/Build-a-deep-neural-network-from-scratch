{
 "cells": [
  {
   "cell_type": "code",
   "execution_count": null,
   "metadata": {
    "collapsed": true
   },
   "outputs": [],
   "source": [
    "# source: https://www.oreilly.com/learning/hello-tensorflow"
   ]
  },
  {
   "cell_type": "code",
   "execution_count": 1,
   "metadata": {
    "collapsed": true
   },
   "outputs": [],
   "source": [
    "# 1 If you want to log a python value you have to \n",
    "   # create a placeholder that have to be fed when running the tf.Summary op.\n",
    "    \n",
    "# ２. After saving the summary, you can use \n",
    "     #Now after running tensorboard --logdir=log_simple_stats, \n",
    "    #you get an interactive plot at localhost:6006/#events (Figure 3).\n",
    "    \n",
    "# 3. save summaries without placehoder: for value in [x, w, y, y_, loss]:\n",
    "    #tf.summary.scalar(value.op.name, value)\n",
    "     # summaries = tf.summary.merge_all()\n",
    "     # summary_writer = tf.train.SummaryWriter('log_simple_stats', sess.graph)\n",
    "     # summary_writer.add_summary(sess.run(summaries), i)"
   ]
  },
  {
   "cell_type": "code",
   "execution_count": 2,
   "metadata": {
    "collapsed": false
   },
   "outputs": [
    {
     "name": "stdout",
     "output_type": "stream",
     "text": [
      "WARNING:tensorflow:From <ipython-input-2-90c149f128a2>:16 in <module>.: __init__ (from tensorflow.python.training.summary_io) is deprecated and will be removed after 2016-11-30.\n",
      "Instructions for updating:\n",
      "Please switch to tf.summary.FileWriter. The interface and behavior is the same; this is just a rename.\n"
     ]
    }
   ],
   "source": [
    "import tensorflow as tf\n",
    "\n",
    "x = tf.constant(1.0, name='input')\n",
    "w = tf.Variable(0.8, name='weight')\n",
    "y = tf.mul(w, x, name='output')\n",
    "y_ = tf.constant(0.0, name='correct_value')\n",
    "loss = tf.pow(y - y_, 2, name='loss')\n",
    "train_step = tf.train.GradientDescentOptimizer(0.025).minimize(loss)\n",
    "\n",
    "for value in [x, w, y, y_, loss]:\n",
    "    tf.summary.scalar(value.op.name, value)\n",
    "\n",
    "summaries = tf.summary.merge_all()\n",
    "\n",
    "sess = tf.Session()\n",
    "summary_writer = tf.train.SummaryWriter('log_simple_stats', sess.graph)\n",
    "\n",
    "#sess.run(tf.initialize_all_variables())\n",
    "\n",
    "sess.run(tf.global_variables_initializer())\n",
    "for i in range(100):\n",
    "    summary_writer.add_summary(sess.run(summaries), i)\n",
    "    sess.run(train_step)"
   ]
  },
  {
   "cell_type": "code",
   "execution_count": null,
   "metadata": {
    "collapsed": true
   },
   "outputs": [],
   "source": []
  },
  {
   "cell_type": "code",
   "execution_count": 3,
   "metadata": {
    "collapsed": false
   },
   "outputs": [
    {
     "name": "stdout",
     "output_type": "stream",
     "text": [
      "WARNING:tensorflow:From <ipython-input-3-04d8667b5b5f>:4 in <module>.: __init__ (from tensorflow.python.training.summary_io) is deprecated and will be removed after 2016-11-30.\n",
      "Instructions for updating:\n",
      "Please switch to tf.summary.FileWriter. The interface and behavior is the same; this is just a rename.\n"
     ]
    }
   ],
   "source": [
    "value_ = tf.placeholder(tf.float32, [])\n",
    "summary_op = tf.summary.scalar(\"value_log\", value_)\n",
    "my_python_variable = 10\n",
    "summary_writer = tf.train.SummaryWriter('log_a_variable', sess.graph)\n",
    "\n",
    "with tf.Session() as sess:\n",
    "    for i in range(0, 100):\n",
    "        summary_writer.add_summary(sess.run(summary_op, feed_dict={value_: my_python_variable*i}))"
   ]
  },
  {
   "cell_type": "code",
   "execution_count": 4,
   "metadata": {
    "collapsed": false
   },
   "outputs": [
    {
     "name": "stdout",
     "output_type": "stream",
     "text": [
      "INFO:tensorflow:Directory watcher advancing from log_simple_stats/events.out.tfevents.1499968159.wxk to log_simple_stats/events.out.tfevents.1499986737.wxk\n",
      "WARNING:tensorflow:Found more than one graph event per run, or there was a metagraph containing a graph_def, as well as one or more graph events.  Overwriting the graph with the newest event.\n",
      "WARNING:tensorflow:Found more than one metagraph event per run. Overwriting the metagraph with the newest event.\n",
      "INFO:tensorflow:No path found after log_simple_stats/events.out.tfevents.1499986737.wxk\n"
     ]
    },
    {
     "data": {
      "text/plain": [
       "<tensorflow.python.summary.event_accumulator.EventAccumulator at 0x7f483c04ca10>"
      ]
     },
     "execution_count": 4,
     "metadata": {},
     "output_type": "execute_result"
    }
   ],
   "source": [
    "from tensorflow.python.summary import event_accumulator as ea\n",
    "\n",
    "acc = ea.EventAccumulator(\"log_simple_stats/\")\n",
    "acc.Reload()"
   ]
  },
  {
   "cell_type": "code",
   "execution_count": 6,
   "metadata": {
    "collapsed": false
   },
   "outputs": [
    {
     "name": "stdout",
     "output_type": "stream",
     "text": [
      "{'scalars': [u'correct_value_1', u'output_1', u'weight_1', u'loss_1', u'input_1'], 'histograms': [], 'run_metadata': [], 'images': [], 'graph': True, 'audio': [], 'meta_graph': True, 'compressedHistograms': []}\n"
     ]
    }
   ],
   "source": [
    "# Print tags of contained entities, use these names to retrieve entities as below\n",
    "\n",
    "\n",
    "print(acc.Tags())"
   ]
  },
  {
   "cell_type": "code",
   "execution_count": 8,
   "metadata": {
    "collapsed": true
   },
   "outputs": [],
   "source": [
    "\n",
    "# E. g. get all values and steps of a scalar called 'loss_1'\n",
    "loss_1_v = [(s.step, s.value) for s in acc.Scalars('loss_1')]\n"
   ]
  },
  {
   "cell_type": "code",
   "execution_count": 9,
   "metadata": {
    "collapsed": false
   },
   "outputs": [
    {
     "data": {
      "text/plain": [
       "[(0L, 0.64000004529953),\n",
       " (1L, 0.5776000022888184),\n",
       " (2L, 0.5212839841842651),\n",
       " (3L, 0.4704587757587433),\n",
       " (4L, 0.42458900809288025),\n",
       " (5L, 0.3831915855407715),\n",
       " (6L, 0.34583035111427307),\n",
       " (7L, 0.31211188435554504),\n",
       " (8L, 0.28168097138404846),\n",
       " (9L, 0.25421708822250366),\n",
       " (10L, 0.2294309288263321),\n",
       " (11L, 0.20706140995025635),\n",
       " (12L, 0.1868729293346405),\n",
       " (13L, 0.16865281760692596),\n",
       " (14L, 0.15220917761325836),\n",
       " (15L, 0.13736878335475922),\n",
       " (16L, 0.12397532165050507),\n",
       " (17L, 0.11188773065805435),\n",
       " (18L, 0.10097866505384445),\n",
       " (19L, 0.0911332443356514),\n",
       " (20L, 0.08224775642156601),\n",
       " (21L, 0.07422859966754913),\n",
       " (22L, 0.06699130684137344),\n",
       " (23L, 0.06045965105295181),\n",
       " (24L, 0.054564833641052246),\n",
       " (25L, 0.04924476146697998),\n",
       " (26L, 0.04444339498877525),\n",
       " (27L, 0.04011016711592674),\n",
       " (28L, 0.036199428141117096),\n",
       " (29L, 0.03266998007893562),\n",
       " (30L, 0.02948465570807457),\n",
       " (31L, 0.026609905064105988),\n",
       " (32L, 0.024015439674258232),\n",
       " (33L, 0.021673934534192085),\n",
       " (34L, 0.01956072449684143),\n",
       " (35L, 0.017653554677963257),\n",
       " (36L, 0.01593233086168766),\n",
       " (37L, 0.014378930442035198),\n",
       " (38L, 0.01297698449343443),\n",
       " (39L, 0.011711728759109974),\n",
       " (40L, 0.01056983508169651),\n",
       " (41L, 0.009539276361465454),\n",
       " (42L, 0.008609197102487087),\n",
       " (43L, 0.007769800256937742),\n",
       " (44L, 0.007012244779616594),\n",
       " (45L, 0.006328550633043051),\n",
       " (46L, 0.005711516831070185),\n",
       " (47L, 0.005154644139111042),\n",
       " (48L, 0.00465206615626812),\n",
       " (49L, 0.004198489710688591),\n",
       " (50L, 0.003789137117564678),\n",
       " (51L, 0.0034196963533759117),\n",
       " (52L, 0.003086275653913617),\n",
       " (53L, 0.0027853637002408504),\n",
       " (54L, 0.002513790735974908),\n",
       " (55L, 0.002268696203827858),\n",
       " (56L, 0.002047498244792223),\n",
       " (57L, 0.0018478671554476023),\n",
       " (58L, 0.0016677002422511578),\n",
       " (59L, 0.001505099586211145),\n",
       " (60L, 0.001358352368697524),\n",
       " (61L, 0.0012259128270670772),\n",
       " (62L, 0.0011063864221796393),\n",
       " (63L, 0.0009985137730836868),\n",
       " (64L, 0.0009011587244458497),\n",
       " (65L, 0.0008132957154884934),\n",
       " (66L, 0.0007339994190260768),\n",
       " (67L, 0.0006624344387091696),\n",
       " (68L, 0.0005978470435366035),\n",
       " (69L, 0.0005395569605752826),\n",
       " (70L, 0.00048695015721023083),\n",
       " (71L, 0.00043947252561338246),\n",
       " (72L, 0.0003966239746659994),\n",
       " (73L, 0.00035795316216535866),\n",
       " (74L, 0.0003230527800042182),\n",
       " (75L, 0.0002915551303885877),\n",
       " (76L, 0.00026312851696275175),\n",
       " (77L, 0.00023747347586322576),\n",
       " (78L, 0.0002143198362318799),\n",
       " (79L, 0.0001934236497618258),\n",
       " (80L, 0.0001745648478390649),\n",
       " (81L, 0.00015754476771689951),\n",
       " (82L, 0.00014218415890354663),\n",
       " (83L, 0.00012832121865358204),\n",
       " (84L, 0.00011580988939385861),\n",
       " (85L, 0.00010451841808389872),\n",
       " (86L, 9.432787192054093e-05),\n",
       " (87L, 8.513090142514557e-05),\n",
       " (88L, 7.683062722207978e-05),\n",
       " (89L, 6.93396432325244e-05),\n",
       " (90L, 6.257901986828074e-05),\n",
       " (91L, 5.647756552207284e-05),\n",
       " (92L, 5.0971000746358186e-05),\n",
       " (93L, 4.600132888299413e-05),\n",
       " (94L, 4.151619577896781e-05),\n",
       " (95L, 3.7468365917447954e-05),\n",
       " (96L, 3.381520218681544e-05),\n",
       " (97L, 3.051821840927005e-05),\n",
       " (98L, 2.7542695534066297e-05),\n",
       " (99L, 2.4857283278834075e-05),\n",
       " (0L, 0.64000004529953),\n",
       " (1L, 0.5776000022888184),\n",
       " (2L, 0.5212840437889099),\n",
       " (3L, 0.4704587757587433),\n",
       " (4L, 0.42458903789520264),\n",
       " (5L, 0.3831915557384491),\n",
       " (6L, 0.34583035111427307),\n",
       " (7L, 0.31211188435554504),\n",
       " (8L, 0.28168100118637085),\n",
       " (9L, 0.25421708822250366),\n",
       " (10L, 0.2294309139251709),\n",
       " (11L, 0.20706139504909515),\n",
       " (12L, 0.1868729293346405),\n",
       " (13L, 0.16865283250808716),\n",
       " (14L, 0.15220916271209717),\n",
       " (15L, 0.13736876845359802),\n",
       " (16L, 0.12397531419992447),\n",
       " (17L, 0.11188773065805435),\n",
       " (18L, 0.10097866505384445),\n",
       " (19L, 0.0911332443356514),\n",
       " (20L, 0.08224775642156601),\n",
       " (21L, 0.07422859966754913),\n",
       " (22L, 0.06699130684137344),\n",
       " (23L, 0.06045965105295181),\n",
       " (24L, 0.054564833641052246),\n",
       " (25L, 0.04924476519227028),\n",
       " (26L, 0.04444339498877525),\n",
       " (27L, 0.040110163390636444),\n",
       " (28L, 0.036199428141117096),\n",
       " (29L, 0.03266998007893562),\n",
       " (30L, 0.02948465570807457),\n",
       " (31L, 0.02660990320146084),\n",
       " (32L, 0.024015439674258232),\n",
       " (33L, 0.021673932671546936),\n",
       " (34L, 0.01956072449684143),\n",
       " (35L, 0.017653554677963257),\n",
       " (36L, 0.01593233272433281),\n",
       " (37L, 0.014378927648067474),\n",
       " (38L, 0.01297698263078928),\n",
       " (39L, 0.011711726896464825),\n",
       " (40L, 0.010569834150373936),\n",
       " (41L, 0.00953927543014288),\n",
       " (42L, 0.008609196171164513),\n",
       " (43L, 0.00776979885995388),\n",
       " (44L, 0.007012243382632732),\n",
       " (45L, 0.006328549236059189),\n",
       " (46L, 0.005711515434086323),\n",
       " (47L, 0.005154643207788467),\n",
       " (48L, 0.004652065224945545),\n",
       " (49L, 0.004198489245027304),\n",
       " (50L, 0.00378913595341146),\n",
       " (51L, 0.003419695422053337),\n",
       " (52L, 0.003086274955421686),\n",
       " (53L, 0.0027853630017489195),\n",
       " (54L, 0.0025137898046523333),\n",
       " (55L, 0.002268695505335927),\n",
       " (56L, 0.002047497546300292),\n",
       " (57L, 0.0018478663405403495),\n",
       " (58L, 0.0016676995437592268),\n",
       " (59L, 0.001505098887719214),\n",
       " (60L, 0.0013583516702055931),\n",
       " (61L, 0.0012259123614057899),\n",
       " (62L, 0.0011063857236877084),\n",
       " (63L, 0.0009985133074223995),\n",
       " (64L, 0.0009011582587845623),\n",
       " (65L, 0.000813295366242528),\n",
       " (66L, 0.0007339990115724504),\n",
       " (67L, 0.0006624340894632041),\n",
       " (68L, 0.0005978467524982989),\n",
       " (69L, 0.0005395567277446389),\n",
       " (70L, 0.0004869498952757567),\n",
       " (71L, 0.00043947226367890835),\n",
       " (72L, 0.00039662374183535576),\n",
       " (73L, 0.000357952929334715),\n",
       " (74L, 0.00032305254717357457),\n",
       " (75L, 0.00029155495576560497),\n",
       " (76L, 0.000263128342339769),\n",
       " (77L, 0.00023747331579215825),\n",
       " (78L, 0.00021431966160889715),\n",
       " (79L, 0.0001934234896907583),\n",
       " (80L, 0.00017456468776799738),\n",
       " (81L, 0.00015754463674966246),\n",
       " (82L, 0.00014218402793630958),\n",
       " (83L, 0.00012832108768634498)]"
      ]
     },
     "execution_count": 9,
     "metadata": {},
     "output_type": "execute_result"
    }
   ],
   "source": [
    "loss_1_v"
   ]
  },
  {
   "cell_type": "code",
   "execution_count": null,
   "metadata": {
    "collapsed": true
   },
   "outputs": [],
   "source": [
    "\n",
    "\n",
    "\n",
    "# Retrieve images, e. g. first labeled as 'generator'\n",
    "img = acc.Images('generator/image/0')\n",
    "with open('img_{}.png'.format(img.step), 'wb') as f:\n",
    "  f.write(img.encoded_image_string)"
   ]
  }
 ],
 "metadata": {
  "kernelspec": {
   "display_name": "Python 2",
   "language": "python",
   "name": "python2"
  },
  "language_info": {
   "codemirror_mode": {
    "name": "ipython",
    "version": 2
   },
   "file_extension": ".py",
   "mimetype": "text/x-python",
   "name": "python",
   "nbconvert_exporter": "python",
   "pygments_lexer": "ipython2",
   "version": "2.7.13"
  }
 },
 "nbformat": 4,
 "nbformat_minor": 0
}
