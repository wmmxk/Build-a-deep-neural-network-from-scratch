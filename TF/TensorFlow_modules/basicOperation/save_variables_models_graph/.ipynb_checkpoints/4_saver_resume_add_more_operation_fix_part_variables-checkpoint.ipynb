{
 "cells": [
  {
   "cell_type": "code",
   "execution_count": 1,
   "metadata": {
    "collapsed": false
   },
   "outputs": [],
   "source": [
    "# source: http://cv-tricks.com/tensorflow-tutorial/save-restore-tensorflow-models-quick-complete-tutorial/"
   ]
  },
  {
   "cell_type": "code",
   "execution_count": 1,
   "metadata": {
    "collapsed": false
   },
   "outputs": [],
   "source": [
    "import tensorflow as tf\n",
    "import numpy as np\n",
    "import os"
   ]
  },
  {
   "cell_type": "code",
   "execution_count": 2,
   "metadata": {
    "collapsed": false
   },
   "outputs": [],
   "source": [
    "output_dir = './model'\n",
    "ckpt = tf.train.get_checkpoint_state(output_dir)"
   ]
  },
  {
   "cell_type": "code",
   "execution_count": 3,
   "metadata": {
    "collapsed": false
   },
   "outputs": [
    {
     "name": "stdout",
     "output_type": "stream",
     "text": [
      "[u'weight:0', u'global_step:0']\n"
     ]
    }
   ],
   "source": [
    "# create an interactive session\n",
    "sess = tf.InteractiveSession()\n",
    "\n",
    "saver = tf.train.import_meta_graph('./model/-1.meta')\n",
    "saver.restore(sess,ckpt.model_checkpoint_path)\n",
    "print [v.name for v in tf.global_variables()]\n"
   ]
  },
  {
   "cell_type": "code",
   "execution_count": 4,
   "metadata": {
    "collapsed": false
   },
   "outputs": [
    {
     "name": "stdout",
     "output_type": "stream",
     "text": [
      "[[ 0.03035492]\n",
      " [ 0.04632926]]\n"
     ]
    }
   ],
   "source": [
    "graph = tf.get_default_graph()\n",
    "x = graph.get_tensor_by_name(\"input:0\")\n",
    "y = graph.get_tensor_by_name(\"output:0\")\n",
    "\n",
    "global_step = graph.get_tensor_by_name(\"global_step:0\")\n",
    "\n",
    "# no need to recreate the weight variable \n",
    "w = graph.get_tensor_by_name(\"weight:0\")\n",
    "mul = graph.get_tensor_by_name(\"multiplication_op:0\")\n",
    "\n",
    "w = tf.stop_gradient(w) \n",
    "\n",
    "print w.eval()\n",
    "# new operations\n",
    "\n",
    "new_w = tf.Variable(tf.zeros([1, 1]), dtype=tf.float32,name =\"weight\")\n",
    "\n",
    "square = tf.multiply(mul,mul,name=\"square_op\")\n",
    "\n",
    "square_mul = tf.matmul(square,new_w)\n",
    "\n",
    "loss = tf.reduce_sum(tf.square(square_mul- y))\n",
    "train_square_op = tf.train.GradientDescentOptimizer(0.01).minimize(loss,global_step = global_step,name= \"train_square_op\")\n",
    "\n"
   ]
  },
  {
   "cell_type": "code",
   "execution_count": 14,
   "metadata": {
    "collapsed": false
   },
   "outputs": [],
   "source": [
    "x_input = np.random.randn(16,2)\n",
    "y_output = np.square(np.sum(x_input,axis = 1)).reshape([16,1])\n"
   ]
  },
  {
   "cell_type": "code",
   "execution_count": 16,
   "metadata": {
    "collapsed": false,
    "scrolled": true
   },
   "outputs": [
    {
     "name": "stdout",
     "output_type": "stream",
     "text": [
      "WARNING:tensorflow:From <ipython-input-16-533e35d1985a>:1 in <module>.: initialize_variables (from tensorflow.python.ops.variables) is deprecated and will be removed after 2017-03-02.\n",
      "Instructions for updating:\n",
      "Use `tf.variables_initializer` instead.\n",
      "[[ 0.03035492]\n",
      " [ 0.04632926]]\n",
      "[[ 0.00828567]]\n"
     ]
    }
   ],
   "source": [
    "init_new_vars_op = tf.initialize_variables([new_w])\n",
    "sess.run(init_new_vars_op) \n",
    "\n",
    "feed_dict = {x: x_input, y: y_output}  # dummy input\n",
    " \n",
    "#Now, access the op that you want to run. \n",
    "op_to_restore = graph.get_tensor_by_name(\"train_square_op:0\")\n",
    "\n",
    "sess.run(op_to_restore,feed_dict)\n",
    "\n",
    "print w.eval()\n",
    "print new_w.eval()"
   ]
  },
  {
   "cell_type": "code",
   "execution_count": null,
   "metadata": {
    "collapsed": true
   },
   "outputs": [],
   "source": []
  },
  {
   "cell_type": "code",
   "execution_count": null,
   "metadata": {
    "collapsed": true
   },
   "outputs": [],
   "source": []
  },
  {
   "cell_type": "code",
   "execution_count": 4,
   "metadata": {
    "collapsed": false
   },
   "outputs": [
    {
     "name": "stdout",
     "output_type": "stream",
     "text": [
      "input\n",
      "output\n",
      "zeros\n",
      "weight\n",
      "weight/Assign\n",
      "weight/read\n",
      "global_step/initial_value\n",
      "global_step\n",
      "global_step/Assign\n",
      "global_step/read\n",
      "multiplication_op\n",
      "sub\n",
      "Square\n",
      "Const\n",
      "Sum\n",
      "gradients/Shape\n",
      "gradients/Const\n",
      "gradients/Fill\n",
      "gradients/Sum_grad/Reshape/shape\n",
      "gradients/Sum_grad/Reshape\n",
      "gradients/Sum_grad/Tile/multiples\n",
      "gradients/Sum_grad/Tile\n",
      "gradients/Square_grad/mul/x\n",
      "gradients/Square_grad/mul\n",
      "gradients/Square_grad/mul_1\n",
      "gradients/sub_grad/Shape\n",
      "gradients/sub_grad/Shape_1\n",
      "gradients/sub_grad/BroadcastGradientArgs\n",
      "gradients/sub_grad/Sum\n",
      "gradients/sub_grad/Reshape\n",
      "gradients/sub_grad/Sum_1\n",
      "gradients/sub_grad/Neg\n",
      "gradients/sub_grad/Reshape_1\n",
      "gradients/sub_grad/tuple/group_deps\n",
      "gradients/sub_grad/tuple/control_dependency\n",
      "gradients/sub_grad/tuple/control_dependency_1\n",
      "gradients/multiplication_op_grad/MatMul\n",
      "gradients/multiplication_op_grad/MatMul_1\n",
      "gradients/multiplication_op_grad/tuple/group_deps\n",
      "gradients/multiplication_op_grad/tuple/control_dependency\n",
      "gradients/multiplication_op_grad/tuple/control_dependency_1\n",
      "train_op/learning_rate\n",
      "train_op/update_weight/ApplyGradientDescent\n",
      "train_op/update\n",
      "train_op/value\n",
      "train_op\n",
      "save/Const\n",
      "save/SaveV2/tensor_names\n",
      "save/SaveV2/shape_and_slices\n",
      "save/SaveV2\n",
      "save/control_dependency\n",
      "save/RestoreV2/tensor_names\n",
      "save/RestoreV2/shape_and_slices\n",
      "save/RestoreV2\n",
      "save/Assign\n",
      "save/RestoreV2_1/tensor_names\n",
      "save/RestoreV2_1/shape_and_slices\n",
      "save/RestoreV2_1\n",
      "save/Assign_1\n",
      "save/restore_all\n",
      "init\n"
     ]
    }
   ],
   "source": [
    "for op in tf.get_default_graph().get_operations():\n",
    "    print str(op.name) "
   ]
  }
 ],
 "metadata": {
  "kernelspec": {
   "display_name": "Python 2",
   "language": "python",
   "name": "python2"
  },
  "language_info": {
   "codemirror_mode": {
    "name": "ipython",
    "version": 2
   },
   "file_extension": ".py",
   "mimetype": "text/x-python",
   "name": "python",
   "nbconvert_exporter": "python",
   "pygments_lexer": "ipython2",
   "version": "2.7.12"
  }
 },
 "nbformat": 4,
 "nbformat_minor": 2
}
