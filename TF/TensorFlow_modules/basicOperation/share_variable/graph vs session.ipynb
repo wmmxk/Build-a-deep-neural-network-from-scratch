{
 "cells": [
  {
   "cell_type": "code",
   "execution_count": null,
   "metadata": {
    "collapsed": true
   },
   "outputs": [],
   "source": [
    "# source: https://danijar.com/what-is-a-tensorflow-session/"
   ]
  },
  {
   "cell_type": "markdown",
   "metadata": {},
   "source": [
    "A graph defines the computation. It doesn’t compute anything, it doesn’t hold any values,\n",
    "it just defines the operations that you specified in your code.\n",
    "\n",
    "A session allows to execute graphs or part of graphs. It allocates resources (on one or more machines)\n",
    "for that and holds the actual values of intermediate results and variables."
   ]
  },
  {
   "cell_type": "markdown",
   "metadata": {},
   "source": [
    "TensorFlow creates a default graph for you, \\\n",
    "so we don’t need the first two lines of the code above. \n",
    "The default graph is also what the sessions in the next section use when not manually specifying a graph.\n",
    "\n"
   ]
  },
  {
   "cell_type": "code",
   "execution_count": 2,
   "metadata": {
    "collapsed": false
   },
   "outputs": [],
   "source": [
    "import tensorflow as tf\n",
    "graph = tf.Graph()\n",
    "with graph.as_default():\n",
    "  variable = tf.Variable(42, name='foo')\n",
    "  initialize = tf.global_variables_initializer()\n",
    "  assign = variable.assign(13)\n"
   ]
  },
  {
   "cell_type": "code",
   "execution_count": 3,
   "metadata": {
    "collapsed": false
   },
   "outputs": [
    {
     "name": "stdout",
     "output_type": "stream",
     "text": [
      "13\n"
     ]
    }
   ],
   "source": [
    "# The sess will be tear down at the end of with block. So when you use the variable in \n",
    "# another session, you need to initialize it again. \n",
    "with tf.Session(graph=graph) as sess:\n",
    "  sess.run(initialize)\n",
    "  sess.run(assign)\n",
    "  print(sess.run(variable))\n",
    "\n"
   ]
  },
  {
   "cell_type": "markdown",
   "metadata": {},
   "source": [
    "with tf.Session(graph=graph) as sess:\n",
    "  print(sess.run(variable))"
   ]
  },
  {
   "cell_type": "code",
   "execution_count": null,
   "metadata": {
    "collapsed": true
   },
   "outputs": [],
   "source": []
  }
 ],
 "metadata": {
  "kernelspec": {
   "display_name": "Python 2",
   "language": "python",
   "name": "python2"
  },
  "language_info": {
   "codemirror_mode": {
    "name": "ipython",
    "version": 2
   },
   "file_extension": ".py",
   "mimetype": "text/x-python",
   "name": "python",
   "nbconvert_exporter": "python",
   "pygments_lexer": "ipython2",
   "version": "2.7.13"
  }
 },
 "nbformat": 4,
 "nbformat_minor": 2
}
