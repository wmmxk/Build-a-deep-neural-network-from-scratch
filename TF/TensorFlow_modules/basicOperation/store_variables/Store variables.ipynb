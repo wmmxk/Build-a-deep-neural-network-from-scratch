{
 "cells": [
  {
   "cell_type": "code",
   "execution_count": 73,
   "metadata": {
    "collapsed": false
   },
   "outputs": [],
   "source": [
    "import numpy as np\n",
    "import tensorflow as tf\n"
   ]
  },
  {
   "cell_type": "code",
   "execution_count": 74,
   "metadata": {
    "collapsed": true
   },
   "outputs": [],
   "source": [
    "def make_data(n):\n",
    "    np.random.seed(42) # To ensure same data for multiple runs\n",
    "    x = 2.0 * np.array(range(n))\n",
    "    y = 1.0 + 3.0 * (np.array(range(n)) + 0.1 * (np.random.rand(n)-0.5))\n",
    "    return x, y"
   ]
  },
  {
   "cell_type": "code",
   "execution_count": 75,
   "metadata": {
    "collapsed": true
   },
   "outputs": [],
   "source": [
    "def def_input_variable(num):\n",
    "    x_holder = tf.placeholder(tf.float32, [num], name='x')\n",
    "    y_holder= tf.placeholder(tf.float32, [num], name='y_')\n",
    "    m_var = tf.Variable([1.0], name='m')\n",
    "    b_var = tf.Variable([1.0], name='b')\n",
    "\n",
    "    return x_holder,y_holder,m_var,b_var"
   ]
  },
  {
   "cell_type": "code",
   "execution_count": 76,
   "metadata": {
    "collapsed": true
   },
   "outputs": [],
   "source": [
    "def model(x_holder,y_holder,m_var,b_var):\n",
    "    y_hat = tf.add(tf.mul(m_var, x_holder), b_var) \n",
    "\n",
    "    num=y_holder.get_shape().as_list()[0]\n",
    "    loss=tf.reduce_sum(tf.pow(y_hat-y_holder, 2))/(num)\n",
    "    optimizer = tf.train.AdamOptimizer(0.05).minimize(loss)\n",
    "    \n",
    "    return y_hat,loss, optimizer\n"
   ]
  },
  {
   "cell_type": "code",
   "execution_count": 77,
   "metadata": {
    "collapsed": false,
    "scrolled": true
   },
   "outputs": [
    {
     "name": "stdout",
     "output_type": "stream",
     "text": [
      "WARNING:tensorflow:From <ipython-input-77-0917fa04131e>:10 in <module>.: initialize_all_variables (from tensorflow.python.ops.variables) is deprecated and will be removed after 2017-03-02.\n",
      "Instructions for updating:\n",
      "Use `tf.global_variables_initializer` instead.\n",
      "  0 | 5.4715e+00\n",
      " 10 | 5.7347e-01\n",
      " 20 | 1.4833e+00\n",
      " 30 | 5.3600e-01\n",
      " 40 | 5.0573e-01\n",
      " 50 | 3.9288e-01\n",
      " 60 | 2.2058e-01\n",
      " 70 | 2.1710e-01\n",
      " 80 | 1.9295e-01\n",
      " 90 | 1.7451e-01\n"
     ]
    }
   ],
   "source": [
    "iter_scale,num=20,5\n",
    "x_in, y_star = make_data(num)\n",
    "with tf.Session() as session:\n",
    "\n",
    "    x_holder,y_holder,m_var,b_var=def_input_variable(num)\n",
    "    y_hat,loss,optimizer= model(x_holder,y_holder,m_var,b_var)\n",
    "    \n",
    "    saver = tf.train.Saver()\n",
    "    feed_dict = {x_holder: x_in, y_holder: y_star}\n",
    "    init = tf.initialize_all_variables()\n",
    "    session.run(init)\n",
    "    for i in range(iter_scale * n):\n",
    "        y_i,loss_i, _ = session.run([y_hat,loss,optimizer],\n",
    "                                       feed_dict)\n",
    "        err = np.linalg.norm(y_i - y_star, 2)\n",
    "        if i%10==0:\n",
    "           print(\"%3d | %.4e\" % (i, err))"
   ]
  },
  {
   "cell_type": "code",
   "execution_count": 96,
   "metadata": {
    "collapsed": false
   },
   "outputs": [],
   "source": [
    "data = make_data(100)\n",
    "def fit_line(data, log_progress=False, iter_scale=20,\n",
    "             restore=False, checkpoint_file=None):\n",
    "    with tf.Session() as session:\n",
    "        \n",
    "        x_in=data[0]\n",
    "        y_star=data[1]\n",
    "\n",
    "        \n",
    "        x_holder,y_holder,m_var,b_var=def_input_variable(len(x_in))\n",
    "        \n",
    "        y_hat,loss,optimizer= model(x_holder,y_holder,m_var,b_var)\n",
    "        \n",
    "        saver = tf.train.Saver()\n",
    "        feed_dict = {x_holder: x_in, y_holder: y_star}\n",
    "        \n",
    "        if restore:\n",
    "            print(\"Loading variables from '%s'.\" % checkpoint_file)\n",
    "            saver.restore(session, \"./checkpoint/\"+checkpoint_file)\n",
    "            y_i = session.run([y_hat], feed_dict)\n",
    "        else:\n",
    "            init = tf.global_variables_initializer()\n",
    "            session.run(init)\n",
    "            for i in range(iter_scale * n):\n",
    "                y_i,loss_i, _ = session.run([y_hat,loss,optimizer],\n",
    "                                               feed_dict)\n",
    "                err = np.linalg.norm(y_i - y_star, 2)\n",
    "                if log_progress:\n",
    "                    print(\"%3d | %.4f %.4f %.4e\" % (i,err))\n",
    "\n",
    "            print(\"Done training! err = %e, iter = %d\"\n",
    "                  % (err, i))\n",
    "            if checkpoint_file is not None:\n",
    "                print(\"Saving variables to '%s'.\" % checkpoint_file)\n",
    "                saver.save(session, \"./checkpoint/\"+checkpoint_file)\n",
    "\n",
    "    return y_i"
   ]
  },
  {
   "cell_type": "code",
   "execution_count": 97,
   "metadata": {
    "collapsed": true
   },
   "outputs": [],
   "source": [
    "def reset():\n",
    "    tf.reset_default_graph()"
   ]
  },
  {
   "cell_type": "code",
   "execution_count": 98,
   "metadata": {
    "collapsed": false,
    "scrolled": true
   },
   "outputs": [
    {
     "name": "stdout",
     "output_type": "stream",
     "text": [
      "Done training! err = 2.937173e+00, iter = 99\n",
      "Saving variables to 'vars.chk'.\n"
     ]
    }
   ],
   "source": [
    "y_hat =fit_line(data, log_progress=False,checkpoint_file='vars.chk')\n"
   ]
  },
  {
   "cell_type": "code",
   "execution_count": 99,
   "metadata": {
    "collapsed": false,
    "scrolled": false
   },
   "outputs": [
    {
     "name": "stdout",
     "output_type": "stream",
     "text": [
      "Loading variables from 'vars.chk'.\n"
     ]
    }
   ],
   "source": [
    "reset()\n",
    "y_hat=fit_line(data, checkpoint_file='vars.chk', restore=True)[0]"
   ]
  },
  {
   "cell_type": "code",
   "execution_count": 100,
   "metadata": {
    "collapsed": false,
    "scrolled": false
   },
   "outputs": [
    {
     "data": {
      "text/plain": [
       "[<matplotlib.lines.Line2D at 0x7f8090433a10>]"
      ]
     },
     "execution_count": 100,
     "metadata": {},
     "output_type": "execute_result"
    },
    {
     "data": {
      "image/png": "[encoded data removed]",
      "text/plain": [
       "<matplotlib.figure.Figure at 0x7f8075730490>"
      ]
     },
     "metadata": {},
     "output_type": "display_data"
    }
   ],
   "source": [
    "%matplotlib inline\n",
    "import matplotlib.pyplot as plt\n",
    "plt.plot(data[1],y_hat)\n"
   ]
  }
 ],
 "metadata": {
  "kernelspec": {
   "display_name": "Python 2",
   "language": "python",
   "name": "python2"
  },
  "language_info": {
   "codemirror_mode": {
    "name": "ipython",
    "version": 2
   },
   "file_extension": ".py",
   "mimetype": "text/x-python",
   "name": "python",
   "nbconvert_exporter": "python",
   "pygments_lexer": "ipython2",
   "version": "2.7.12"
  }
 },
 "nbformat": 4,
 "nbformat_minor": 0
}
