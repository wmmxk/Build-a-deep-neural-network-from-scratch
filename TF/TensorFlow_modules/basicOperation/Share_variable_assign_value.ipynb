{
 "cells": [
  {
   "cell_type": "code",
   "execution_count": null,
   "metadata": {
    "collapsed": true
   },
   "outputs": [],
   "source": [
    "# source: https://jasdeep06.github.io/posts/variable-sharing-in-tensorflow/"
   ]
  },
  {
   "cell_type": "code",
   "execution_count": null,
   "metadata": {
    "collapsed": true
   },
   "outputs": [],
   "source": [
    "#1. when you create var1, don't set the argument of tf.variable_scope to be true. Because tf.get_variable()   \n",
    "  # will look for the variable with the name equivalent to current scope name + the provided name \n",
    "  # (analogous to directory structure).\n",
    "  # If it exists then it will return that existing variable otherwise it throws a Value Error."
   ]
  },
  {
   "cell_type": "code",
   "execution_count": 1,
   "metadata": {
    "collapsed": true
   },
   "outputs": [],
   "source": [
    "import numpy as np\n",
    "values = np.array([[1,2]])"
   ]
  },
  {
   "cell_type": "code",
   "execution_count": 7,
   "metadata": {
    "collapsed": false
   },
   "outputs": [
    {
     "data": {
      "text/plain": [
       "(1, 2)"
      ]
     },
     "execution_count": 7,
     "metadata": {},
     "output_type": "execute_result"
    }
   ],
   "source": [
    "values.shape"
   ]
  },
  {
   "cell_type": "code",
   "execution_count": 2,
   "metadata": {
    "collapsed": false
   },
   "outputs": [],
   "source": [
    "\n",
    "import tensorflow as tf\n",
    "with tf.variable_scope(\"scope1\"):  # 1. don't use (tf.variable_scope(\"scope1\",reuse=True))\n",
    "\n",
    "    var1 = tf.get_variable(\"variable1\",[1,2]) # 2. [1] defines the shape\n",
    "\n",
    "    tf.get_variable_scope().reuse_variables()\n",
    "\n",
    "    assert tf.get_variable_scope().reuse==True\n",
    "\n",
    "    var2=tf.get_variable(\"variable1\",[1,2])\n",
    "    assign_op = var1.assign(values)"
   ]
  },
  {
   "cell_type": "code",
   "execution_count": 3,
   "metadata": {
    "collapsed": false,
    "scrolled": true
   },
   "outputs": [
    {
     "name": "stdout",
     "output_type": "stream",
     "text": [
      "scope1/variable1:0\n",
      "scope1/variable1:0\n"
     ]
    },
    {
     "data": {
      "text/plain": [
       "True"
      ]
     },
     "execution_count": 3,
     "metadata": {},
     "output_type": "execute_result"
    }
   ],
   "source": [
    "print var1.name\n",
    "print var2.name\n",
    "var1 == var2"
   ]
  },
  {
   "cell_type": "code",
   "execution_count": 4,
   "metadata": {
    "collapsed": false,
    "scrolled": true
   },
   "outputs": [
    {
     "name": "stdout",
     "output_type": "stream",
     "text": [
      "WARNING:tensorflow:From <ipython-input-4-2bdfa85e9f9b>:2 in <module>.: initialize_all_variables (from tensorflow.python.ops.variables) is deprecated and will be removed after 2017-03-02.\n",
      "Instructions for updating:\n",
      "Use `tf.global_variables_initializer` instead.\n",
      "[[-0.76247698 -1.44598627]]\n",
      "[[ 1.  2.]]\n"
     ]
    }
   ],
   "source": [
    "with tf.Session() as sess:\n",
    "   sess.run(tf.initialize_all_variables())\n",
    "   print(sess.run(var1))\n",
    "   sess.run(assign_op)\n",
    "   print var1.eval()"
   ]
  },
  {
   "cell_type": "code",
   "execution_count": null,
   "metadata": {
    "collapsed": true
   },
   "outputs": [],
   "source": [
    "\n"
   ]
  }
 ],
 "metadata": {
  "kernelspec": {
   "display_name": "Python 2",
   "language": "python",
   "name": "python2"
  },
  "language_info": {
   "codemirror_mode": {
    "name": "ipython",
    "version": 2
   },
   "file_extension": ".py",
   "mimetype": "text/x-python",
   "name": "python",
   "nbconvert_exporter": "python",
   "pygments_lexer": "ipython2",
   "version": "2.7.13"
  }
 },
 "nbformat": 4,
 "nbformat_minor": 2
}
