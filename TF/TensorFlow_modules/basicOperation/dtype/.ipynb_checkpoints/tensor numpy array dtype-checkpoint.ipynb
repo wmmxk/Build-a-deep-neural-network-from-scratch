{
 "cells": [
  {
   "cell_type": "code",
   "execution_count": null,
   "metadata": {
    "collapsed": true
   },
   "outputs": [],
   "source": [
    "Context: sometimes you see bugs about dtype conflicts when performing tf.matmul. The source of the\n",
    "    error is the type of the input data (in numpy array format) should be converted to the right type first"
   ]
  },
  {
   "cell_type": "code",
   "execution_count": 2,
   "metadata": {
    "collapsed": false
   },
   "outputs": [
    {
     "name": "stdout",
     "output_type": "stream",
     "text": [
      "arr dtype:  float32\n"
     ]
    },
    {
     "data": {
      "text/plain": [
       "tf.float32"
      ]
     },
     "execution_count": 2,
     "metadata": {},
     "output_type": "execute_result"
    }
   ],
   "source": [
    "import numpy as np\n",
    "import tensorflow as tf\n",
    "\n",
    "arr = np.array([[1,3],[2,4]]).astype(np.float32)\n",
    "print \"arr dtype: \", arr.dtype\n",
    "t1 = tf.pack(arr)\n",
    "t1.dtype"
   ]
  }
 ],
 "metadata": {
  "kernelspec": {
   "display_name": "Python 2",
   "language": "python",
   "name": "python2"
  },
  "language_info": {
   "codemirror_mode": {
    "name": "ipython",
    "version": 2
   },
   "file_extension": ".py",
   "mimetype": "text/x-python",
   "name": "python",
   "nbconvert_exporter": "python",
   "pygments_lexer": "ipython2",
   "version": "2.7.12"
  }
 },
 "nbformat": 4,
 "nbformat_minor": 0
}
