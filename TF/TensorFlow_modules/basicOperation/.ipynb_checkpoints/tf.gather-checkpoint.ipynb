{
 "cells": [
  {
   "cell_type": "code",
   "execution_count": 3,
   "metadata": {
    "collapsed": false
   },
   "outputs": [
    {
     "data": {
      "text/plain": [
       "[3, 3]"
      ]
     },
     "execution_count": 3,
     "metadata": {},
     "output_type": "execute_result"
    }
   ],
   "source": [
    "# get the shapes of a tensor in a list: x.get_shape().as_list()\n",
    "# the inputs of tf.gather include one 1-d tensor and 1 index tensor"
   ]
  },
  {
   "cell_type": "code",
   "execution_count": 12,
   "metadata": {
    "collapsed": false
   },
   "outputs": [
    {
     "name": "stdout",
     "output_type": "stream",
     "text": [
      "[2 4 9]\n",
      "[1 3 8]\n",
      "x.reshaped [1 2 3 4 5 6 7 8 9]\n",
      "[0 3 6]\n"
     ]
    }
   ],
   "source": [
    "import tensorflow as tf\n",
    "x = tf.constant([[1, 2, 3],\n",
    "                 [4, 5, 6],\n",
    "                 [7, 8, 9]])\n",
    "idx = tf.constant([1, 0, 2])\n",
    "x_shape = x.get_shape().as_list()\n",
    "idx_flattened = tf.range(0, x_shape[0]) * x_shape[1] + idx\n",
    "y = tf.gather(tf.reshape(x, [-1]),  # flatten input\n",
    "              idx_flattened)  # use flattened indices\n",
    "\n",
    "with tf.Session(''):\n",
    "  print y.eval()  # [2 4 9]\n",
    "  print idx_flattened.eval()\n",
    "  print \"x.reshaped\",tf.reshape(x,[-1]).eval()\n"
   ]
  },
  {
   "cell_type": "code",
   "execution_count": 6,
   "metadata": {
    "collapsed": false
   },
   "outputs": [
    {
     "name": "stdout",
     "output_type": "stream",
     "text": [
      "Tensor(\"Const_2:0\", shape=(3, 3), dtype=int32)\n"
     ]
    }
   ],
   "source": [
    "print x"
   ]
  }
 ],
 "metadata": {
  "kernelspec": {
   "display_name": "Python 2",
   "language": "python",
   "name": "python2"
  },
  "language_info": {
   "codemirror_mode": {
    "name": "ipython",
    "version": 2
   },
   "file_extension": ".py",
   "mimetype": "text/x-python",
   "name": "python",
   "nbconvert_exporter": "python",
   "pygments_lexer": "ipython2",
   "version": "2.7.13"
  }
 },
 "nbformat": 4,
 "nbformat_minor": 2
}
