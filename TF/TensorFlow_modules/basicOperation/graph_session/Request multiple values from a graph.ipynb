{
 "cells": [
  {
   "cell_type": "code",
   "execution_count": null,
   "metadata": {
    "collapsed": true
   },
   "outputs": [],
   "source": [
    "# source: https://stackoverflow.com/questions/35512046/requesting-multiple-values-from-graph-at-same-time"
   ]
  },
  {
   "cell_type": "markdown",
   "metadata": {},
   "source": [
    " the order of arguments to Session.run() has no effect on the order of evaluation, and \n",
    "    the loss tensor in your example does not have a dependency on the optimizer op."
   ]
  },
  {
   "cell_type": "code",
   "execution_count": 2,
   "metadata": {
    "collapsed": false
   },
   "outputs": [
    {
     "name": "stdout",
     "output_type": "stream",
     "text": [
      "[array([[ 3.54767227,  0.07173015]], dtype=float32)]\n"
     ]
    }
   ],
   "source": [
    "import tensorflow as tf\n",
    "import numpy as np\n",
    "\n",
    "x = tf.placeholder(tf.float32, shape=[None, 10])\n",
    "y = tf.placeholder(tf.float32, shape=[None, 2])\n",
    "\n",
    "weight = tf.Variable(tf.random_uniform((10, 2), dtype=tf.float32))\n",
    "loss = tf.nn.sigmoid_cross_entropy_with_logits(tf.matmul(x, weight), y)\n",
    "\n",
    "optimizer = tf.train.AdamOptimizer(0.1).minimize(loss)\n",
    "\n",
    "init_op = tf.global_variables_initializer()\n",
    "\n",
    "X = np.random.rand(1, 10)\n",
    "Y = np.array([[0, 1]])\n",
    "\n",
    "\n",
    "sess = tf.Session()\n",
    "sess.run(init_op)\n",
    "l1 = sess.run([loss], feed_dict={x: X, y: Y})\n",
    "print l1\n",
    "\n"
   ]
  },
  {
   "cell_type": "code",
   "execution_count": 13,
   "metadata": {
    "collapsed": false
   },
   "outputs": [
    {
     "name": "stdout",
     "output_type": "stream",
     "text": [
      "[[ 0.16529436  0.00134094]]\n"
     ]
    }
   ],
   "source": [
    "# Running the training step\n",
    "_, l2 = sess.run([optimizer, loss], feed_dict={x: X, y: Y})\n",
    "\n",
    "print l2"
   ]
  },
  {
   "cell_type": "code",
   "execution_count": 23,
   "metadata": {
    "collapsed": false
   },
   "outputs": [
    {
     "name": "stdout",
     "output_type": "stream",
     "text": [
      "[array([[ 0.11130173,  0.00105838]], dtype=float32)]\n"
     ]
    }
   ],
   "source": [
    "# Evaluate loss again after training step as sanity check\n",
    "l3 = sess.run([loss], feed_dict={x: X, y: Y})\n",
    "print l3 "
   ]
  }
 ],
 "metadata": {
  "kernelspec": {
   "display_name": "Python 2",
   "language": "python",
   "name": "python2"
  },
  "language_info": {
   "codemirror_mode": {
    "name": "ipython",
    "version": 2
   },
   "file_extension": ".py",
   "mimetype": "text/x-python",
   "name": "python",
   "nbconvert_exporter": "python",
   "pygments_lexer": "ipython2",
   "version": "2.7.13"
  }
 },
 "nbformat": 4,
 "nbformat_minor": 2
}
