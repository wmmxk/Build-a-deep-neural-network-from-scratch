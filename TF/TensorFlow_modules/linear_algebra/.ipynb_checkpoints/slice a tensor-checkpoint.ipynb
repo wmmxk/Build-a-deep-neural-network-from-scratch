{
 "cells": [
  {
   "cell_type": "code",
   "execution_count": null,
   "metadata": {
    "collapsed": true
   },
   "outputs": [],
   "source": [
    "#trip if you slice one row, the dimension for row is still there"
   ]
  },
  {
   "cell_type": "code",
   "execution_count": 4,
   "metadata": {
    "collapsed": false
   },
   "outputs": [
    {
     "name": "stdout",
     "output_type": "stream",
     "text": [
      "[3]\n",
      "[3, 1]\n",
      "[3, 3]\n"
     ]
    }
   ],
   "source": [
    "import tensorflow as tf\n",
    "t1 = tf.pack([1,2,3])\n",
    "\n",
    "d2=tf.pack([[1,2,3],[4,5,6],[7,8,9]])\n",
    "\n",
    "t2 = tf.slice(d2,(0,1),(-1,1))\n",
    "\n",
    "t3 = t1 - t2\n",
    "\n",
    "print t1.get_shape().as_list()\n",
    "print t2.get_shape().as_list()\n",
    "print t3.get_shape().as_list()"
   ]
  },
  {
   "cell_type": "code",
   "execution_count": null,
   "metadata": {
    "collapsed": true
   },
   "outputs": [],
   "source": [
    "If `size[i]` is -1,\n",
    "    all remaining elements in dimension i are included in the slice\n",
    "\n",
    "The two index arguments are begin and size not begin and end"
   ]
  },
  {
   "cell_type": "code",
   "execution_count": 2,
   "metadata": {
    "collapsed": false
   },
   "outputs": [
    {
     "name": "stdout",
     "output_type": "stream",
     "text": [
      "Help on function slice in module tensorflow.python.ops.array_ops:\n",
      "\n",
      "slice(input_, begin, size, name=None)\n",
      "    Extracts a slice from a tensor.\n",
      "    \n",
      "    This operation extracts a slice of size `size` from a tensor `input` starting\n",
      "    at the location specified by `begin`. The slice `size` is represented as a\n",
      "    tensor shape, where `size[i]` is the number of elements of the 'i'th dimension\n",
      "    of `input` that you want to slice. The starting location (`begin`) for the\n",
      "    slice is represented as an offset in each dimension of `input`. In other\n",
      "    words, `begin[i]` is the offset into the 'i'th dimension of `input` that you\n",
      "    want to slice from.\n",
      "    \n",
      "    `begin` is zero-based; `size` is one-based. If `size[i]` is -1,\n",
      "    all remaining elements in dimension i are included in the\n",
      "    slice. In other words, this is equivalent to setting:\n",
      "    \n",
      "    `size[i] = input.dim_size(i) - begin[i]`\n",
      "    \n",
      "    This operation requires that:\n",
      "    \n",
      "    `0 <= begin[i] <= begin[i] + size[i] <= Di  for i in [0, n]`\n",
      "    \n",
      "    For example:\n",
      "    \n",
      "    ```python\n",
      "    # 'input' is [[[1, 1, 1], [2, 2, 2]],\n",
      "    #             [[3, 3, 3], [4, 4, 4]],\n",
      "    #             [[5, 5, 5], [6, 6, 6]]]\n",
      "    tf.slice(input, [1, 0, 0], [1, 1, 3]) ==> [[[3, 3, 3]]]\n",
      "    tf.slice(input, [1, 0, 0], [1, 2, 3]) ==> [[[3, 3, 3],\n",
      "                                                [4, 4, 4]]]\n",
      "    tf.slice(input, [1, 0, 0], [2, 1, 3]) ==> [[[3, 3, 3]],\n",
      "                                               [[5, 5, 5]]]\n",
      "    ```\n",
      "    \n",
      "    Args:\n",
      "      input_: A `Tensor`.\n",
      "      begin: An `int32` or `int64` `Tensor`.\n",
      "      size: An `int32` or `int64` `Tensor`.\n",
      "      name: A name for the operation (optional).\n",
      "    \n",
      "    Returns:\n",
      "      A `Tensor` the same type as `input`.\n",
      "\n",
      "None\n"
     ]
    }
   ],
   "source": [
    "print help(tf.slice)"
   ]
  }
 ],
 "metadata": {
  "kernelspec": {
   "display_name": "Python 2",
   "language": "python",
   "name": "python2"
  },
  "language_info": {
   "codemirror_mode": {
    "name": "ipython",
    "version": 2
   },
   "file_extension": ".py",
   "mimetype": "text/x-python",
   "name": "python",
   "nbconvert_exporter": "python",
   "pygments_lexer": "ipython2",
   "version": "2.7.12"
  }
 },
 "nbformat": 4,
 "nbformat_minor": 2
}
