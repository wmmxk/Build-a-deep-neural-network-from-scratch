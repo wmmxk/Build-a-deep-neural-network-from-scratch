{
 "cells": [
  {
   "cell_type": "code",
   "execution_count": 2,
   "metadata": {
    "collapsed": true
   },
   "outputs": [],
   "source": [
    "import tensorflow as tf"
   ]
  },
  {
   "cell_type": "markdown",
   "metadata": {},
   "source": [
    "Motivating example:\n",
    "     This operation is useful if you want to add a batch axisension to a single\n",
    "    element. For example, if you have a single image of shape `[height, width,\n",
    "    channels]`, you can make it a batch of 1 image with `expand_axiss(image, 0)`,\n",
    "    which will make the shape `[1, height, width, channels]`."
   ]
  },
  {
   "cell_type": "markdown",
   "metadata": {},
   "source": [
    "Motivating example2:\n",
    "    The tf.nn.dynamic_rnn is input is of shape [batch_size*num_steps*input_size]. If you input_size is one and \n",
    "    the input is 2-D tensor, you need to expand at the last dimension\n",
    "    tf.nn.dynamic_rnn(cell, tf.expand_dims(batchX_placeholder, -1), initial_state=rnn_tuple_state)"
   ]
  },
  {
   "cell_type": "code",
   "execution_count": 3,
   "metadata": {
    "collapsed": false
   },
   "outputs": [
    {
     "name": "stdout",
     "output_type": "stream",
     "text": [
      "Help on function expand_dims in module tensorflow.python.ops.array_ops:\n",
      "\n",
      "expand_dims(input, axis=None, name=None, dim=None)\n",
      "    Inserts a axisension of 1 into a tensor's shape.\n",
      "    \n",
      "    Given a tensor `input`, this operation inserts a axisension of 1 at the\n",
      "    axisension index `axis` of `input`'s shape. The axisension index `axis` starts at\n",
      "    zero; if you specify a negative number for `axis` it is counted backward from\n",
      "    the end.\n",
      "    \n",
      "    This operation is useful if you want to add a batch axisension to a single\n",
      "    element. For example, if you have a single image of shape `[height, width,\n",
      "    channels]`, you can make it a batch of 1 image with `expand_axiss(image, 0)`,\n",
      "    which will make the shape `[1, height, width, channels]`.\n",
      "    \n",
      "    Other examples:\n",
      "    \n",
      "    ```prettyprint\n",
      "    # 't' is a tensor of shape [2]\n",
      "    shape(expand_axiss(t, 0)) ==> [1, 2]\n",
      "    shape(expand_axiss(t, 1)) ==> [2, 1]\n",
      "    shape(expand_axiss(t, -1)) ==> [2, 1]\n",
      "    \n",
      "    # 't2' is a tensor of shape [2, 3, 5]\n",
      "    shape(expand_axiss(t2, 0)) ==> [1, 2, 3, 5]\n",
      "    shape(expand_axiss(t2, 2)) ==> [2, 3, 1, 5]\n",
      "    shape(expand_axiss(t2, 3)) ==> [2, 3, 5, 1]\n",
      "    ```\n",
      "    \n",
      "    This operation requires that:\n",
      "    \n",
      "    `-1-input.axiss() <= axis <= input.axiss()`\n",
      "    \n",
      "    This operation is related to `squeeze()`, which removes axisensions of\n",
      "    size 1.\n",
      "    \n",
      "    Args:\n",
      "      input: A `Tensor`.\n",
      "      axis: A `Tensor`. Must be one of the following types: `int32`, `int64`.\n",
      "        0-D (scalar). Specifies the axisension index at which to\n",
      "        expand the shape of `input`.\n",
      "      name: A name for the operation (optional).\n",
      "    \n",
      "    Returns:\n",
      "      A `Tensor`. Has the same type as `input`.\n",
      "      Contains the same data as `input`, but its shape has an additional\n",
      "      axisension of size 1 added.\n",
      "\n",
      "None\n"
     ]
    }
   ],
   "source": [
    "print help(tf.expand_dims)"
   ]
  }
 ],
 "metadata": {
  "kernelspec": {
   "display_name": "Python 2",
   "language": "python",
   "name": "python2"
  },
  "language_info": {
   "codemirror_mode": {
    "name": "ipython",
    "version": 2
   },
   "file_extension": ".py",
   "mimetype": "text/x-python",
   "name": "python",
   "nbconvert_exporter": "python",
   "pygments_lexer": "ipython2",
   "version": "2.7.12"
  }
 },
 "nbformat": 4,
 "nbformat_minor": 2
}
